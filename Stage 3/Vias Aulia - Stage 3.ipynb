{
  "cells": [
    {
      "cell_type": "markdown",
      "id": "4efac619",
      "metadata": {
        "id": "4efac619"
      },
      "source": [
        "## Data Modelling"
      ]
    },
    {
      "cell_type": "code",
      "execution_count": null,
      "id": "6f4ae1f5",
      "metadata": {
        "id": "6f4ae1f5"
      },
      "outputs": [],
      "source": [
        "import pandas as pd\n",
        "import matplotlib.pyplot as plt\n",
        "import seaborn as sns\n",
        "import numpy as np\n",
        "from collections import Counter\n",
        "import scipy.stats as ss\n",
        "import math\n",
        "from sklearn.ensemble import RandomForestClassifier, GradientBoostingClassifier, AdaBoostClassifier"
      ]
    },
    {
      "cell_type": "code",
      "execution_count": null,
      "id": "f2876728",
      "metadata": {
        "id": "f2876728",
        "outputId": "5081dc90-b1f7-4649-b76e-e25b18914a73",
        "colab": {
          "base_uri": "https://localhost:8080/",
          "height": 505
        }
      },
      "outputs": [
        {
          "output_type": "execute_result",
          "data": {
            "text/plain": [
              "       temperature  time  expiration  age  education  income  Bar  \\\n",
              "0                1     3           1    1          4       5    0   \n",
              "1                2     2           0    1          4       5    0   \n",
              "2                2     2           1    1          4       5    0   \n",
              "3                2     2           0    1          4       5    0   \n",
              "4                2     3           1    1          4       5    0   \n",
              "...            ...   ...         ...  ...        ...     ...  ...   \n",
              "12002            1     0           1    1          4       6    0   \n",
              "12003            1     1           1    1          4       6    0   \n",
              "12004            0     1           1    1          4       6    0   \n",
              "12005            0     1           1    1          4       6    0   \n",
              "12006            2     1           0    1          4       6    0   \n",
              "\n",
              "       CoffeeHouse  CarryAway  Restaurant20To50  ...  weather_Rainy  \\\n",
              "0                1          3                 1  ...              0   \n",
              "1                1          3                 1  ...              0   \n",
              "2                1          3                 1  ...              0   \n",
              "3                1          3                 1  ...              0   \n",
              "4                1          3                 1  ...              0   \n",
              "...            ...        ...               ...  ...            ...   \n",
              "12002            0          2                 2  ...              1   \n",
              "12003            0          2                 2  ...              1   \n",
              "12004            0          2                 2  ...              0   \n",
              "12005            0          2                 2  ...              0   \n",
              "12006            0          2                 2  ...              0   \n",
              "\n",
              "       weather_Snowy  weather_Sunny  destination_Home  \\\n",
              "0                  0              1                 0   \n",
              "1                  0              1                 0   \n",
              "2                  0              1                 0   \n",
              "3                  0              1                 0   \n",
              "4                  0              1                 0   \n",
              "...              ...            ...               ...   \n",
              "12002              0              0                 1   \n",
              "12003              0              0                 0   \n",
              "12004              1              0                 0   \n",
              "12005              1              0                 0   \n",
              "12006              0              1                 0   \n",
              "\n",
              "       destination_No Urgent Place  destination_Work  passanger_Alone  \\\n",
              "0                                1                 0                1   \n",
              "1                                1                 0                0   \n",
              "2                                1                 0                0   \n",
              "3                                1                 0                0   \n",
              "4                                1                 0                0   \n",
              "...                            ...               ...              ...   \n",
              "12002                            0                 0                0   \n",
              "12003                            0                 1                1   \n",
              "12004                            0                 1                1   \n",
              "12005                            0                 1                1   \n",
              "12006                            0                 1                1   \n",
              "\n",
              "       passanger_Friend(s)  passanger_Kid(s)  passanger_Partner  \n",
              "0                        0                 0                  0  \n",
              "1                        1                 0                  0  \n",
              "2                        1                 0                  0  \n",
              "3                        1                 0                  0  \n",
              "4                        1                 0                  0  \n",
              "...                    ...               ...                ...  \n",
              "12002                    0                 0                  1  \n",
              "12003                    0                 0                  0  \n",
              "12004                    0                 0                  0  \n",
              "12005                    0                 0                  0  \n",
              "12006                    0                 0                  0  \n",
              "\n",
              "[12007 rows x 29 columns]"
            ],
            "text/html": [
              "\n",
              "  <div id=\"df-cff6dec8-3495-4d45-9658-3663eeaa008a\">\n",
              "    <div class=\"colab-df-container\">\n",
              "      <div>\n",
              "<style scoped>\n",
              "    .dataframe tbody tr th:only-of-type {\n",
              "        vertical-align: middle;\n",
              "    }\n",
              "\n",
              "    .dataframe tbody tr th {\n",
              "        vertical-align: top;\n",
              "    }\n",
              "\n",
              "    .dataframe thead th {\n",
              "        text-align: right;\n",
              "    }\n",
              "</style>\n",
              "<table border=\"1\" class=\"dataframe\">\n",
              "  <thead>\n",
              "    <tr style=\"text-align: right;\">\n",
              "      <th></th>\n",
              "      <th>temperature</th>\n",
              "      <th>time</th>\n",
              "      <th>expiration</th>\n",
              "      <th>age</th>\n",
              "      <th>education</th>\n",
              "      <th>income</th>\n",
              "      <th>Bar</th>\n",
              "      <th>CoffeeHouse</th>\n",
              "      <th>CarryAway</th>\n",
              "      <th>Restaurant20To50</th>\n",
              "      <th>...</th>\n",
              "      <th>weather_Rainy</th>\n",
              "      <th>weather_Snowy</th>\n",
              "      <th>weather_Sunny</th>\n",
              "      <th>destination_Home</th>\n",
              "      <th>destination_No Urgent Place</th>\n",
              "      <th>destination_Work</th>\n",
              "      <th>passanger_Alone</th>\n",
              "      <th>passanger_Friend(s)</th>\n",
              "      <th>passanger_Kid(s)</th>\n",
              "      <th>passanger_Partner</th>\n",
              "    </tr>\n",
              "  </thead>\n",
              "  <tbody>\n",
              "    <tr>\n",
              "      <th>0</th>\n",
              "      <td>1</td>\n",
              "      <td>3</td>\n",
              "      <td>1</td>\n",
              "      <td>1</td>\n",
              "      <td>4</td>\n",
              "      <td>5</td>\n",
              "      <td>0</td>\n",
              "      <td>1</td>\n",
              "      <td>3</td>\n",
              "      <td>1</td>\n",
              "      <td>...</td>\n",
              "      <td>0</td>\n",
              "      <td>0</td>\n",
              "      <td>1</td>\n",
              "      <td>0</td>\n",
              "      <td>1</td>\n",
              "      <td>0</td>\n",
              "      <td>1</td>\n",
              "      <td>0</td>\n",
              "      <td>0</td>\n",
              "      <td>0</td>\n",
              "    </tr>\n",
              "    <tr>\n",
              "      <th>1</th>\n",
              "      <td>2</td>\n",
              "      <td>2</td>\n",
              "      <td>0</td>\n",
              "      <td>1</td>\n",
              "      <td>4</td>\n",
              "      <td>5</td>\n",
              "      <td>0</td>\n",
              "      <td>1</td>\n",
              "      <td>3</td>\n",
              "      <td>1</td>\n",
              "      <td>...</td>\n",
              "      <td>0</td>\n",
              "      <td>0</td>\n",
              "      <td>1</td>\n",
              "      <td>0</td>\n",
              "      <td>1</td>\n",
              "      <td>0</td>\n",
              "      <td>0</td>\n",
              "      <td>1</td>\n",
              "      <td>0</td>\n",
              "      <td>0</td>\n",
              "    </tr>\n",
              "    <tr>\n",
              "      <th>2</th>\n",
              "      <td>2</td>\n",
              "      <td>2</td>\n",
              "      <td>1</td>\n",
              "      <td>1</td>\n",
              "      <td>4</td>\n",
              "      <td>5</td>\n",
              "      <td>0</td>\n",
              "      <td>1</td>\n",
              "      <td>3</td>\n",
              "      <td>1</td>\n",
              "      <td>...</td>\n",
              "      <td>0</td>\n",
              "      <td>0</td>\n",
              "      <td>1</td>\n",
              "      <td>0</td>\n",
              "      <td>1</td>\n",
              "      <td>0</td>\n",
              "      <td>0</td>\n",
              "      <td>1</td>\n",
              "      <td>0</td>\n",
              "      <td>0</td>\n",
              "    </tr>\n",
              "    <tr>\n",
              "      <th>3</th>\n",
              "      <td>2</td>\n",
              "      <td>2</td>\n",
              "      <td>0</td>\n",
              "      <td>1</td>\n",
              "      <td>4</td>\n",
              "      <td>5</td>\n",
              "      <td>0</td>\n",
              "      <td>1</td>\n",
              "      <td>3</td>\n",
              "      <td>1</td>\n",
              "      <td>...</td>\n",
              "      <td>0</td>\n",
              "      <td>0</td>\n",
              "      <td>1</td>\n",
              "      <td>0</td>\n",
              "      <td>1</td>\n",
              "      <td>0</td>\n",
              "      <td>0</td>\n",
              "      <td>1</td>\n",
              "      <td>0</td>\n",
              "      <td>0</td>\n",
              "    </tr>\n",
              "    <tr>\n",
              "      <th>4</th>\n",
              "      <td>2</td>\n",
              "      <td>3</td>\n",
              "      <td>1</td>\n",
              "      <td>1</td>\n",
              "      <td>4</td>\n",
              "      <td>5</td>\n",
              "      <td>0</td>\n",
              "      <td>1</td>\n",
              "      <td>3</td>\n",
              "      <td>1</td>\n",
              "      <td>...</td>\n",
              "      <td>0</td>\n",
              "      <td>0</td>\n",
              "      <td>1</td>\n",
              "      <td>0</td>\n",
              "      <td>1</td>\n",
              "      <td>0</td>\n",
              "      <td>0</td>\n",
              "      <td>1</td>\n",
              "      <td>0</td>\n",
              "      <td>0</td>\n",
              "    </tr>\n",
              "    <tr>\n",
              "      <th>...</th>\n",
              "      <td>...</td>\n",
              "      <td>...</td>\n",
              "      <td>...</td>\n",
              "      <td>...</td>\n",
              "      <td>...</td>\n",
              "      <td>...</td>\n",
              "      <td>...</td>\n",
              "      <td>...</td>\n",
              "      <td>...</td>\n",
              "      <td>...</td>\n",
              "      <td>...</td>\n",
              "      <td>...</td>\n",
              "      <td>...</td>\n",
              "      <td>...</td>\n",
              "      <td>...</td>\n",
              "      <td>...</td>\n",
              "      <td>...</td>\n",
              "      <td>...</td>\n",
              "      <td>...</td>\n",
              "      <td>...</td>\n",
              "      <td>...</td>\n",
              "    </tr>\n",
              "    <tr>\n",
              "      <th>12002</th>\n",
              "      <td>1</td>\n",
              "      <td>0</td>\n",
              "      <td>1</td>\n",
              "      <td>1</td>\n",
              "      <td>4</td>\n",
              "      <td>6</td>\n",
              "      <td>0</td>\n",
              "      <td>0</td>\n",
              "      <td>2</td>\n",
              "      <td>2</td>\n",
              "      <td>...</td>\n",
              "      <td>1</td>\n",
              "      <td>0</td>\n",
              "      <td>0</td>\n",
              "      <td>1</td>\n",
              "      <td>0</td>\n",
              "      <td>0</td>\n",
              "      <td>0</td>\n",
              "      <td>0</td>\n",
              "      <td>0</td>\n",
              "      <td>1</td>\n",
              "    </tr>\n",
              "    <tr>\n",
              "      <th>12003</th>\n",
              "      <td>1</td>\n",
              "      <td>1</td>\n",
              "      <td>1</td>\n",
              "      <td>1</td>\n",
              "      <td>4</td>\n",
              "      <td>6</td>\n",
              "      <td>0</td>\n",
              "      <td>0</td>\n",
              "      <td>2</td>\n",
              "      <td>2</td>\n",
              "      <td>...</td>\n",
              "      <td>1</td>\n",
              "      <td>0</td>\n",
              "      <td>0</td>\n",
              "      <td>0</td>\n",
              "      <td>0</td>\n",
              "      <td>1</td>\n",
              "      <td>1</td>\n",
              "      <td>0</td>\n",
              "      <td>0</td>\n",
              "      <td>0</td>\n",
              "    </tr>\n",
              "    <tr>\n",
              "      <th>12004</th>\n",
              "      <td>0</td>\n",
              "      <td>1</td>\n",
              "      <td>1</td>\n",
              "      <td>1</td>\n",
              "      <td>4</td>\n",
              "      <td>6</td>\n",
              "      <td>0</td>\n",
              "      <td>0</td>\n",
              "      <td>2</td>\n",
              "      <td>2</td>\n",
              "      <td>...</td>\n",
              "      <td>0</td>\n",
              "      <td>1</td>\n",
              "      <td>0</td>\n",
              "      <td>0</td>\n",
              "      <td>0</td>\n",
              "      <td>1</td>\n",
              "      <td>1</td>\n",
              "      <td>0</td>\n",
              "      <td>0</td>\n",
              "      <td>0</td>\n",
              "    </tr>\n",
              "    <tr>\n",
              "      <th>12005</th>\n",
              "      <td>0</td>\n",
              "      <td>1</td>\n",
              "      <td>1</td>\n",
              "      <td>1</td>\n",
              "      <td>4</td>\n",
              "      <td>6</td>\n",
              "      <td>0</td>\n",
              "      <td>0</td>\n",
              "      <td>2</td>\n",
              "      <td>2</td>\n",
              "      <td>...</td>\n",
              "      <td>0</td>\n",
              "      <td>1</td>\n",
              "      <td>0</td>\n",
              "      <td>0</td>\n",
              "      <td>0</td>\n",
              "      <td>1</td>\n",
              "      <td>1</td>\n",
              "      <td>0</td>\n",
              "      <td>0</td>\n",
              "      <td>0</td>\n",
              "    </tr>\n",
              "    <tr>\n",
              "      <th>12006</th>\n",
              "      <td>2</td>\n",
              "      <td>1</td>\n",
              "      <td>0</td>\n",
              "      <td>1</td>\n",
              "      <td>4</td>\n",
              "      <td>6</td>\n",
              "      <td>0</td>\n",
              "      <td>0</td>\n",
              "      <td>2</td>\n",
              "      <td>2</td>\n",
              "      <td>...</td>\n",
              "      <td>0</td>\n",
              "      <td>0</td>\n",
              "      <td>1</td>\n",
              "      <td>0</td>\n",
              "      <td>0</td>\n",
              "      <td>1</td>\n",
              "      <td>1</td>\n",
              "      <td>0</td>\n",
              "      <td>0</td>\n",
              "      <td>0</td>\n",
              "    </tr>\n",
              "  </tbody>\n",
              "</table>\n",
              "<p>12007 rows × 29 columns</p>\n",
              "</div>\n",
              "      <button class=\"colab-df-convert\" onclick=\"convertToInteractive('df-cff6dec8-3495-4d45-9658-3663eeaa008a')\"\n",
              "              title=\"Convert this dataframe to an interactive table.\"\n",
              "              style=\"display:none;\">\n",
              "        \n",
              "  <svg xmlns=\"http://www.w3.org/2000/svg\" height=\"24px\"viewBox=\"0 0 24 24\"\n",
              "       width=\"24px\">\n",
              "    <path d=\"M0 0h24v24H0V0z\" fill=\"none\"/>\n",
              "    <path d=\"M18.56 5.44l.94 2.06.94-2.06 2.06-.94-2.06-.94-.94-2.06-.94 2.06-2.06.94zm-11 1L8.5 8.5l.94-2.06 2.06-.94-2.06-.94L8.5 2.5l-.94 2.06-2.06.94zm10 10l.94 2.06.94-2.06 2.06-.94-2.06-.94-.94-2.06-.94 2.06-2.06.94z\"/><path d=\"M17.41 7.96l-1.37-1.37c-.4-.4-.92-.59-1.43-.59-.52 0-1.04.2-1.43.59L10.3 9.45l-7.72 7.72c-.78.78-.78 2.05 0 2.83L4 21.41c.39.39.9.59 1.41.59.51 0 1.02-.2 1.41-.59l7.78-7.78 2.81-2.81c.8-.78.8-2.07 0-2.86zM5.41 20L4 18.59l7.72-7.72 1.47 1.35L5.41 20z\"/>\n",
              "  </svg>\n",
              "      </button>\n",
              "      \n",
              "  <style>\n",
              "    .colab-df-container {\n",
              "      display:flex;\n",
              "      flex-wrap:wrap;\n",
              "      gap: 12px;\n",
              "    }\n",
              "\n",
              "    .colab-df-convert {\n",
              "      background-color: #E8F0FE;\n",
              "      border: none;\n",
              "      border-radius: 50%;\n",
              "      cursor: pointer;\n",
              "      display: none;\n",
              "      fill: #1967D2;\n",
              "      height: 32px;\n",
              "      padding: 0 0 0 0;\n",
              "      width: 32px;\n",
              "    }\n",
              "\n",
              "    .colab-df-convert:hover {\n",
              "      background-color: #E2EBFA;\n",
              "      box-shadow: 0px 1px 2px rgba(60, 64, 67, 0.3), 0px 1px 3px 1px rgba(60, 64, 67, 0.15);\n",
              "      fill: #174EA6;\n",
              "    }\n",
              "\n",
              "    [theme=dark] .colab-df-convert {\n",
              "      background-color: #3B4455;\n",
              "      fill: #D2E3FC;\n",
              "    }\n",
              "\n",
              "    [theme=dark] .colab-df-convert:hover {\n",
              "      background-color: #434B5C;\n",
              "      box-shadow: 0px 1px 3px 1px rgba(0, 0, 0, 0.15);\n",
              "      filter: drop-shadow(0px 1px 2px rgba(0, 0, 0, 0.3));\n",
              "      fill: #FFFFFF;\n",
              "    }\n",
              "  </style>\n",
              "\n",
              "      <script>\n",
              "        const buttonEl =\n",
              "          document.querySelector('#df-cff6dec8-3495-4d45-9658-3663eeaa008a button.colab-df-convert');\n",
              "        buttonEl.style.display =\n",
              "          google.colab.kernel.accessAllowed ? 'block' : 'none';\n",
              "\n",
              "        async function convertToInteractive(key) {\n",
              "          const element = document.querySelector('#df-cff6dec8-3495-4d45-9658-3663eeaa008a');\n",
              "          const dataTable =\n",
              "            await google.colab.kernel.invokeFunction('convertToInteractive',\n",
              "                                                     [key], {});\n",
              "          if (!dataTable) return;\n",
              "\n",
              "          const docLinkHtml = 'Like what you see? Visit the ' +\n",
              "            '<a target=\"_blank\" href=https://colab.research.google.com/notebooks/data_table.ipynb>data table notebook</a>'\n",
              "            + ' to learn more about interactive tables.';\n",
              "          element.innerHTML = '';\n",
              "          dataTable['output_type'] = 'display_data';\n",
              "          await google.colab.output.renderOutput(dataTable, element);\n",
              "          const docLink = document.createElement('div');\n",
              "          docLink.innerHTML = docLinkHtml;\n",
              "          element.appendChild(docLink);\n",
              "        }\n",
              "      </script>\n",
              "    </div>\n",
              "  </div>\n",
              "  "
            ]
          },
          "metadata": {},
          "execution_count": 3
        }
      ],
      "source": [
        "df = pd.read_csv('df_arr.csv',sep='\\t')\n",
        "df"
      ]
    },
    {
      "cell_type": "code",
      "execution_count": null,
      "id": "16399dd0",
      "metadata": {
        "id": "16399dd0"
      },
      "outputs": [],
      "source": [
        "label = df[['Y']] #biar bisa diambil nama columnnya untuk nanti viz decision treenya\n",
        "labels = np.array(df['Y']) #karna kudu array\n",
        "feature = df.drop(columns='Y')\n",
        "list_feature = list(feature.columns)\n",
        "list_label = list(label.columns)\n",
        "features = np.array(feature)"
      ]
    },
    {
      "cell_type": "code",
      "execution_count": null,
      "id": "09f26b99",
      "metadata": {
        "id": "09f26b99"
      },
      "outputs": [],
      "source": [
        "from sklearn.model_selection import train_test_split\n",
        "X_train, X_test, y_train, y_test = train_test_split(features, labels, test_size = 0.3, random_state=42)"
      ]
    },
    {
      "cell_type": "code",
      "execution_count": null,
      "id": "0acef059",
      "metadata": {
        "id": "0acef059"
      },
      "outputs": [],
      "source": [
        "def eval(model):\n",
        "    y_pred = model.predict(X_test)\n",
        "\n",
        "    from sklearn.metrics import accuracy_score, precision_score, recall_score, roc_auc_score,f1_score,classification_report\n",
        "    print('accuracy (test): '+ str(accuracy_score(y_test, y_pred)))\n",
        "    print('---Classification Report---\\n'+str(classification_report(y_test, y_pred)))"
      ]
    },
    {
      "cell_type": "code",
      "execution_count": null,
      "id": "5b185a6b",
      "metadata": {
        "id": "5b185a6b",
        "outputId": "76c243d6-a7df-475a-efee-f56146c91770",
        "colab": {
          "base_uri": "https://localhost:8080/"
        }
      },
      "outputs": [
        {
          "output_type": "execute_result",
          "data": {
            "text/plain": [
              "CategoricalNB()"
            ]
          },
          "metadata": {},
          "execution_count": 10
        }
      ],
      "source": [
        "from sklearn.naive_bayes import CategoricalNB\n",
        "gnb = CategoricalNB(random_state=42)\n",
        "gnb.fit(X_train,y_train)"
      ]
    },
    {
      "cell_type": "code",
      "execution_count": null,
      "id": "ac21d415",
      "metadata": {
        "id": "ac21d415",
        "outputId": "03666a87-3daa-4635-e706-476465cc134a",
        "colab": {
          "base_uri": "https://localhost:8080/"
        }
      },
      "outputs": [
        {
          "output_type": "stream",
          "name": "stdout",
          "text": [
            "accuracy (test): 0.6056064390785456\n",
            "---Classification Report---\n",
            "              precision    recall  f1-score   support\n",
            "\n",
            "           0       0.54      0.55      0.54      1535\n",
            "           1       0.66      0.65      0.65      2068\n",
            "\n",
            "    accuracy                           0.61      3603\n",
            "   macro avg       0.60      0.60      0.60      3603\n",
            "weighted avg       0.61      0.61      0.61      3603\n",
            "\n"
          ]
        }
      ],
      "source": [
        "eval(gnb)"
      ]
    },
    {
      "cell_type": "markdown",
      "id": "a566d754",
      "metadata": {
        "id": "a566d754"
      },
      "source": [
        "## Random Forest"
      ]
    },
    {
      "cell_type": "code",
      "execution_count": null,
      "id": "9261aee8",
      "metadata": {
        "id": "9261aee8"
      },
      "outputs": [],
      "source": [
        "rf = RandomForestClassifier(n_estimators=1000, max_depth= 10,random_state=42)\n",
        "rf.fit(X_train,y_train);"
      ]
    },
    {
      "cell_type": "code",
      "execution_count": null,
      "id": "9168e834",
      "metadata": {
        "id": "9168e834",
        "colab": {
          "base_uri": "https://localhost:8080/"
        },
        "outputId": "b3c40c7f-87cb-4897-8caa-31c77ff5fe4d"
      },
      "outputs": [
        {
          "output_type": "stream",
          "name": "stdout",
          "text": [
            "accuracy (test): 0.6505689703025257\n",
            "---Classification Report---\n",
            "              precision    recall  f1-score   support\n",
            "\n",
            "           0       0.62      0.46      0.53      1535\n",
            "           1       0.66      0.79      0.72      2068\n",
            "\n",
            "    accuracy                           0.65      3603\n",
            "   macro avg       0.64      0.63      0.63      3603\n",
            "weighted avg       0.65      0.65      0.64      3603\n",
            "\n"
          ]
        }
      ],
      "source": [
        "eval(rf)"
      ]
    },
    {
      "cell_type": "code",
      "execution_count": null,
      "id": "765543de",
      "metadata": {
        "id": "765543de"
      },
      "outputs": [],
      "source": [
        "rf_new = RandomForestClassifier(n_estimators= 100, min_samples_split= 10, min_samples_leaf= 4, max_depth= 5, random_state=42)\n",
        "rf_new.fit(X_train,y_train);"
      ]
    },
    {
      "cell_type": "code",
      "execution_count": null,
      "id": "8f68e81b",
      "metadata": {
        "id": "8f68e81b",
        "colab": {
          "base_uri": "https://localhost:8080/"
        },
        "outputId": "23f9c062-46af-44d4-9bb2-aeb93a841556"
      },
      "outputs": [
        {
          "output_type": "stream",
          "name": "stdout",
          "text": [
            "accuracy (test): 0.6314182625589786\n",
            "---Classification Report---\n",
            "              precision    recall  f1-score   support\n",
            "\n",
            "           0       0.62      0.34      0.44      1535\n",
            "           1       0.63      0.85      0.73      2068\n",
            "\n",
            "    accuracy                           0.63      3603\n",
            "   macro avg       0.63      0.59      0.58      3603\n",
            "weighted avg       0.63      0.63      0.60      3603\n",
            "\n"
          ]
        }
      ],
      "source": [
        "eval(rf_new)"
      ]
    },
    {
      "cell_type": "code",
      "execution_count": null,
      "id": "38043d12",
      "metadata": {
        "id": "38043d12",
        "colab": {
          "base_uri": "https://localhost:8080/",
          "height": 265
        },
        "outputId": "790c89c7-3f8e-464b-dd9d-5188888ea1ab"
      },
      "outputs": [
        {
          "output_type": "display_data",
          "data": {
            "text/plain": [
              "<Figure size 432x288 with 1 Axes>"
            ],
            "image/png": "[encoded data removed]"
          },
          "metadata": {
            "needs_background": "light"
          }
        }
      ],
      "source": [
        "import numpy as np\n",
        "from sklearn.metrics import accuracy_score, precision_score, recall_score, roc_auc_score, confusion_matrix\n",
        "values = [int(x) for x in np.linspace(5, 100)] # hyperparameter n_iterations\n",
        "# solve = ['']\n",
        "train_score = []\n",
        "test_score = []\n",
        "\n",
        "for c in values:\n",
        "    lr = RandomForestClassifier(n_estimators = 100, max_depth=5, min_samples_split=30)\n",
        "    lr.fit(X_train, y_train)\n",
        "    \n",
        "    # eval test\n",
        "    y_pred_proba = lr.predict_proba(X_test)\n",
        "    auc_test = roc_auc_score(y_test, y_pred_proba[:,1])\n",
        "    test_score.append(auc_test)\n",
        "    \n",
        "    # eval test\n",
        "    y_pred_proba_train = lr.predict_proba(X_train)\n",
        "    auc_train = roc_auc_score(y_train, y_pred_proba_train[:,1])\n",
        "    train_score.append(auc_train)\n",
        "\n",
        "from matplotlib import pyplot as plt\n",
        "plt.plot(values, train_score, label='train')\n",
        "plt.plot(values, test_score, label='test')\n",
        "plt.legend()\n",
        "plt.show()"
      ]
    },
    {
      "cell_type": "code",
      "execution_count": null,
      "id": "c01225dd",
      "metadata": {
        "id": "c01225dd",
        "colab": {
          "base_uri": "https://localhost:8080/",
          "height": 279
        },
        "outputId": "a8b9f79d-b83d-4640-d089-9c9e3c78ac7d"
      },
      "outputs": [
        {
          "output_type": "display_data",
          "data": {
            "text/plain": [
              "<Figure size 432x288 with 1 Axes>"
            ],
            "image/png": "[encoded data removed]"
          },
          "metadata": {
            "needs_background": "light"
          }
        }
      ],
      "source": [
        "from sklearn import metrics\n",
        "y_pred_proba = rf.predict_proba(X_test)[::,1]\n",
        "fpr, tpr, _ = metrics.roc_curve(y_test, y_pred_proba)\n",
        "auc = metrics.roc_auc_score(y_test,y_pred_proba)\n",
        "\n",
        "plt.plot(fpr,tpr,label='AUC='+str(auc))\n",
        "plt.ylabel('TPR')\n",
        "plt.xlabel('FPR')\n",
        "plt.legend(loc=4)\n",
        "plt.show()"
      ]
    },
    {
      "cell_type": "markdown",
      "id": "3f39aa12",
      "metadata": {
        "id": "3f39aa12"
      },
      "source": [
        "## Decision Tree"
      ]
    },
    {
      "cell_type": "code",
      "execution_count": null,
      "id": "ddca0f43",
      "metadata": {
        "id": "ddca0f43",
        "outputId": "cad9b297-3f06-4d22-a33f-0c08bad7ea77",
        "colab": {
          "base_uri": "https://localhost:8080/"
        }
      },
      "outputs": [
        {
          "output_type": "execute_result",
          "data": {
            "text/plain": [
              "DecisionTreeClassifier(max_depth=5)"
            ]
          },
          "metadata": {},
          "execution_count": 16
        }
      ],
      "source": [
        "from sklearn.tree import DecisionTreeClassifier # import decision tree dari sklearn\n",
        "dt = DecisionTreeClassifier(max_depth=5) # inisiasi object dengan nama dt\n",
        "dt.fit(X_train, y_train)"
      ]
    },
    {
      "cell_type": "code",
      "execution_count": null,
      "id": "e1f64321",
      "metadata": {
        "id": "e1f64321",
        "outputId": "318f98e6-640c-4d83-c0f4-ac1a94f56774",
        "colab": {
          "base_uri": "https://localhost:8080/"
        }
      },
      "outputs": [
        {
          "output_type": "stream",
          "name": "stdout",
          "text": [
            "accuracy (test): 0.6358590063835693\n",
            "---Classification Report---\n",
            "              precision    recall  f1-score   support\n",
            "\n",
            "           0       0.62      0.38      0.47      1535\n",
            "           1       0.64      0.83      0.72      2068\n",
            "\n",
            "    accuracy                           0.64      3603\n",
            "   macro avg       0.63      0.60      0.60      3603\n",
            "weighted avg       0.63      0.64      0.62      3603\n",
            "\n"
          ]
        }
      ],
      "source": [
        "eval(dt)"
      ]
    },
    {
      "cell_type": "code",
      "execution_count": null,
      "id": "e3a2e068",
      "metadata": {
        "id": "e3a2e068",
        "outputId": "bda21671-3eb8-43a9-a8e6-099118766f15",
        "colab": {
          "base_uri": "https://localhost:8080/",
          "height": 531
        }
      },
      "outputs": [
        {
          "output_type": "execute_result",
          "data": {
            "text/plain": [
              "Text(0.5, 1.0, 'feature importance score')"
            ]
          },
          "metadata": {},
          "execution_count": 53
        },
        {
          "output_type": "display_data",
          "data": {
            "text/plain": [
              "<Figure size 720x576 with 1 Axes>"
            ],
            "image/png": "[encoded data removed]"
          },
          "metadata": {
            "needs_background": "light"
          }
        }
      ],
      "source": [
        "feat_importances = pd.Series(dt.feature_importances_, index=feature.columns)\n",
        "ax = feat_importances.nlargest(25).plot(kind='barh', figsize=(10, 8))\n",
        "ax.invert_yaxis()\n",
        "\n",
        "plt.xlabel('score')\n",
        "plt.ylabel('feature')\n",
        "plt.title('feature importance score')"
      ]
    },
    {
      "cell_type": "markdown",
      "source": [
        "## XGBoost"
      ],
      "metadata": {
        "id": "LuqfQkl3gRo-"
      },
      "id": "LuqfQkl3gRo-"
    },
    {
      "cell_type": "code",
      "source": [
        "xgb = GradientBoostingClassifier(n_estimators=1000, learning_rate=0.5,max_leaf_nodes=5, subsample= 1, random_state=42)\n",
        "xgb.fit(X_train, y_train)"
      ],
      "metadata": {
        "colab": {
          "base_uri": "https://localhost:8080/",
          "height": 190
        },
        "id": "zy41DMw6gRCM",
        "outputId": "2d7581ce-80ee-4409-937d-c5c614d5a048"
      },
      "id": "zy41DMw6gRCM",
      "execution_count": null,
      "outputs": [
        {
          "output_type": "error",
          "ename": "NameError",
          "evalue": "ignored",
          "traceback": [
            "\u001b[0;31m---------------------------------------------------------------------------\u001b[0m",
            "\u001b[0;31mNameError\u001b[0m                                 Traceback (most recent call last)",
            "\u001b[0;32m<ipython-input-1-4bfdfa24bf8a>\u001b[0m in \u001b[0;36m<module>\u001b[0;34m()\u001b[0m\n\u001b[0;32m----> 1\u001b[0;31m \u001b[0mxgb\u001b[0m \u001b[0;34m=\u001b[0m \u001b[0mGradientBoostingClassifier\u001b[0m\u001b[0;34m(\u001b[0m\u001b[0mn_estimators\u001b[0m\u001b[0;34m=\u001b[0m\u001b[0;36m1000\u001b[0m\u001b[0;34m,\u001b[0m \u001b[0mlearning_rate\u001b[0m\u001b[0;34m=\u001b[0m\u001b[0;36m0.5\u001b[0m\u001b[0;34m,\u001b[0m\u001b[0mmax_leaf_nodes\u001b[0m\u001b[0;34m=\u001b[0m\u001b[0;36m5\u001b[0m\u001b[0;34m,\u001b[0m \u001b[0msubsample\u001b[0m\u001b[0;34m=\u001b[0m \u001b[0;36m1\u001b[0m\u001b[0;34m,\u001b[0m \u001b[0mrandom_state\u001b[0m\u001b[0;34m=\u001b[0m\u001b[0;36m42\u001b[0m\u001b[0;34m)\u001b[0m\u001b[0;34m\u001b[0m\u001b[0;34m\u001b[0m\u001b[0m\n\u001b[0m\u001b[1;32m      2\u001b[0m \u001b[0mxgb\u001b[0m\u001b[0;34m.\u001b[0m\u001b[0mfit\u001b[0m\u001b[0;34m(\u001b[0m\u001b[0mX_train\u001b[0m\u001b[0;34m,\u001b[0m \u001b[0my_train\u001b[0m\u001b[0;34m)\u001b[0m\u001b[0;34m\u001b[0m\u001b[0;34m\u001b[0m\u001b[0m\n",
            "\u001b[0;31mNameError\u001b[0m: name 'GradientBoostingClassifier' is not defined"
          ]
        }
      ]
    },
    {
      "cell_type": "code",
      "source": [
        "eval(xgb)"
      ],
      "metadata": {
        "colab": {
          "base_uri": "https://localhost:8080/"
        },
        "id": "4z9H8pQhqD4c",
        "outputId": "e9ec42d8-13a7-490d-a919-6126b1a42b2b"
      },
      "id": "4z9H8pQhqD4c",
      "execution_count": null,
      "outputs": [
        {
          "output_type": "stream",
          "name": "stdout",
          "text": [
            "accuracy (test): 0.6588953649736331\n",
            "---Classification Report---\n",
            "              precision    recall  f1-score   support\n",
            "\n",
            "           0       0.60      0.59      0.60      1535\n",
            "           1       0.70      0.71      0.71      2068\n",
            "\n",
            "    accuracy                           0.66      3603\n",
            "   macro avg       0.65      0.65      0.65      3603\n",
            "weighted avg       0.66      0.66      0.66      3603\n",
            "\n"
          ]
        }
      ]
    },
    {
      "cell_type": "code",
      "source": [
        "ab = AdaBoostClassifier(n_estimators=1000)\n",
        "ab.fit(X_train, y_train)"
      ],
      "metadata": {
        "colab": {
          "base_uri": "https://localhost:8080/"
        },
        "id": "AaKlzEREsO7w",
        "outputId": "1388f820-ae27-4ebf-c45e-50d944d10812"
      },
      "id": "AaKlzEREsO7w",
      "execution_count": null,
      "outputs": [
        {
          "output_type": "execute_result",
          "data": {
            "text/plain": [
              "AdaBoostClassifier(n_estimators=1000)"
            ]
          },
          "metadata": {},
          "execution_count": 84
        }
      ]
    },
    {
      "cell_type": "code",
      "source": [
        "eval(ab)"
      ],
      "metadata": {
        "colab": {
          "base_uri": "https://localhost:8080/"
        },
        "id": "ct1hQ-d2se6C",
        "outputId": "6996b3dc-77ae-487a-f942-22e1d196a479"
      },
      "id": "ct1hQ-d2se6C",
      "execution_count": null,
      "outputs": [
        {
          "output_type": "stream",
          "name": "stdout",
          "text": [
            "accuracy (test): 0.6266999722453511\n",
            "---Classification Report---\n",
            "              precision    recall  f1-score   support\n",
            "\n",
            "           0       0.58      0.46      0.51      1535\n",
            "           1       0.65      0.75      0.70      2068\n",
            "\n",
            "    accuracy                           0.63      3603\n",
            "   macro avg       0.61      0.61      0.60      3603\n",
            "weighted avg       0.62      0.63      0.62      3603\n",
            "\n"
          ]
        }
      ]
    },
    {
      "cell_type": "markdown",
      "source": [
        "## SVC"
      ],
      "metadata": {
        "id": "eePbwp1FUwbY"
      },
      "id": "eePbwp1FUwbY"
    },
    {
      "cell_type": "code",
      "source": [
        "from sklearn.svm import SVC\n",
        "svc = SVC(C=5,kernel='rbf',degree=5)\n",
        "svc.fit(X_train, y_train)"
      ],
      "metadata": {
        "colab": {
          "base_uri": "https://localhost:8080/"
        },
        "id": "qJxJHlBHUyhK",
        "outputId": "4c1e3a5e-a6ef-42c1-b3a5-7abcb9208ebe"
      },
      "id": "qJxJHlBHUyhK",
      "execution_count": null,
      "outputs": [
        {
          "output_type": "execute_result",
          "data": {
            "text/plain": [
              "SVC(C=5, degree=5)"
            ]
          },
          "metadata": {},
          "execution_count": 77
        }
      ]
    },
    {
      "cell_type": "code",
      "source": [
        "eval(svc)"
      ],
      "metadata": {
        "colab": {
          "base_uri": "https://localhost:8080/"
        },
        "id": "TUkeeEYqVIaj",
        "outputId": "2a6465fd-d181-4f61-e592-316ba12599bc"
      },
      "id": "TUkeeEYqVIaj",
      "execution_count": null,
      "outputs": [
        {
          "output_type": "stream",
          "name": "stdout",
          "text": [
            "accuracy (test): 0.6422425756314183\n",
            "---Classification Report---\n",
            "              precision    recall  f1-score   support\n",
            "\n",
            "           0       0.60      0.48      0.53      1535\n",
            "           1       0.66      0.76      0.71      2068\n",
            "\n",
            "    accuracy                           0.64      3603\n",
            "   macro avg       0.63      0.62      0.62      3603\n",
            "weighted avg       0.64      0.64      0.63      3603\n",
            "\n"
          ]
        }
      ]
    },
    {
      "cell_type": "markdown",
      "id": "51bfee40",
      "metadata": {
        "id": "51bfee40"
      },
      "source": [
        "## Business Insights"
      ]
    },
    {
      "cell_type": "code",
      "execution_count": null,
      "id": "b197f30b",
      "metadata": {
        "id": "b197f30b"
      },
      "outputs": [],
      "source": [
        "import pandas as pd\n",
        "import matplotlib.pyplot as plt\n",
        "import seaborn as sns"
      ]
    },
    {
      "cell_type": "code",
      "execution_count": null,
      "id": "27faff10",
      "metadata": {
        "id": "27faff10",
        "outputId": "82453cf1-9849-4b1a-ba01-8e1686e3926c"
      },
      "outputs": [
        {
          "data": {
            "text/plain": [
              "Index(['id', 'destination', 'passanger', 'weather', 'temperature', 'time',\n",
              "       'coupon', 'expiration', 'gender', 'age', 'maritalStatus',\n",
              "       'has_children', 'education', 'occupation', 'income', 'Bar',\n",
              "       'CoffeeHouse', 'CarryAway', 'RestaurantLessThan20', 'Restaurant20To50',\n",
              "       'toCoupon_GEQ15min', 'toCoupon_GEQ25min', 'direction_same', 'Y'],\n",
              "      dtype='object')"
            ]
          },
          "execution_count": 2,
          "metadata": {},
          "output_type": "execute_result"
        }
      ],
      "source": [
        "df_cat = pd.read_csv('clean data cat.csv',sep='\\t')\n",
        "df_cat.rename(columns={'Unnamed: 0' : 'id'},inplace=True)\n",
        "df_cat.columns"
      ]
    },
    {
      "cell_type": "code",
      "execution_count": null,
      "id": "77bc124f",
      "metadata": {
        "id": "77bc124f"
      },
      "outputs": [],
      "source": [
        "def show_val(ax):\n",
        "    for b in ax.patches:\n",
        "        x = b.get_x() + (b.get_width() / 2)\n",
        "        y = b.get_y() + b.get_height() + (b.get_height() * 0.01)\n",
        "        val = b.get_height()\n",
        "        ax.text(x, y, val, ha = 'center')\n",
        "        \n",
        "def show_val_percent(ax):\n",
        "    for b in ax.patches:\n",
        "        x = b.get_x() + (b.get_width() / 2)\n",
        "        y = b.get_y() + b.get_height() + (b.get_height() * 0.01)\n",
        "        val = f'{b.get_height():.2f}%'\n",
        "        ax.text(x, y, val, ha = 'center')\n",
        "        \n",
        "def show_val_int(ax):\n",
        "    for b in ax.patches:\n",
        "        x = b.get_x() + (b.get_width() / 2)\n",
        "        y = b.get_y() + b.get_height() + (b.get_height() * 0.01)\n",
        "        val = int(b.get_height())\n",
        "        ax.text(x, y, val, ha = 'center')"
      ]
    },
    {
      "cell_type": "code",
      "execution_count": null,
      "id": "571db2a2",
      "metadata": {
        "id": "571db2a2"
      },
      "outputs": [],
      "source": [
        "def group_df_churn(col):\n",
        "    ndf = df_cat.groupby([col, 'Y']).agg({'id':'nunique'}).reset_index()\n",
        "    ndf_sum = ndf.groupby(col).agg({'id':'sum'})\n",
        "    ndf = ndf.merge(ndf_sum, on = col)\n",
        "    ndf['percentage'] = (ndf['id_x']/ndf['id_y']) * 100\n",
        "    return ndf\n",
        "\n",
        "def plot_box(col):\n",
        "    df1 = group_df_churn(col)\n",
        "    fig, ax = plt.subplots(nrows = 1, ncols = 2, figsize = (16,8))\n",
        "    sns.barplot(x = col, y= 'id_x', hue = 'Y', data = df1, ax = ax[0])\n",
        "    ax[0].set_ylabel('Total Customer')\n",
        "    show_val_int(ax[0])\n",
        "    sns.barplot(x = col, y= 'percentage', hue = 'Y', data = df1, ax = ax[1])\n",
        "    show_val_percent(ax[1])\n",
        "    plt.title('Distribusi Pemakaian Jenis Kupon Coffee House\\nBerdasarkan Frekuensi Kunjungan')\n",
        "    \n",
        "def plot_continuous(col):\n",
        "    fig, ax = plt.subplots(nrows = 1, ncols = 2, figsize = (16,8))\n",
        "    sns.boxplot(x = 'Y', y = col, data = df_cat, ax = ax[0])\n",
        "    sns.histplot(x = col, hue = 'Y', data = df_cat, ax = ax[1])"
      ]
    },
    {
      "cell_type": "code",
      "execution_count": null,
      "id": "b963ce61",
      "metadata": {
        "id": "b963ce61",
        "outputId": "52ad3494-0815-4742-afbc-306c428c9213"
      },
      "outputs": [
        {
          "data": {
            "image/png": "[encoded data removed]",
            "text/plain": [
              "<Figure size 1152x576 with 2 Axes>"
            ]
          },
          "metadata": {
            "needs_background": "light"
          },
          "output_type": "display_data"
        }
      ],
      "source": [
        "plot_box('CoffeeHouse')"
      ]
    },
    {
      "cell_type": "code",
      "execution_count": null,
      "id": "2f131ac7",
      "metadata": {
        "id": "2f131ac7",
        "outputId": "86c89336-c143-4ec1-a661-faab08a4270e"
      },
      "outputs": [
        {
          "data": {
            "image/png": "[encoded data removed]",
            "text/plain": [
              "<Figure size 1152x576 with 2 Axes>"
            ]
          },
          "metadata": {
            "needs_background": "light"
          },
          "output_type": "display_data"
        }
      ],
      "source": [
        "plot_box('expiration')"
      ]
    },
    {
      "cell_type": "code",
      "execution_count": null,
      "id": "c63ae09d",
      "metadata": {
        "id": "c63ae09d",
        "outputId": "bb2c4137-f74a-4212-8554-41feecf62c9f"
      },
      "outputs": [
        {
          "data": {
            "image/png": "[encoded data removed]",
            "text/plain": [
              "<Figure size 1152x576 with 2 Axes>"
            ]
          },
          "metadata": {
            "needs_background": "light"
          },
          "output_type": "display_data"
        }
      ],
      "source": [
        "plot_box('destination')"
      ]
    },
    {
      "cell_type": "code",
      "execution_count": null,
      "id": "4f35c4e5",
      "metadata": {
        "id": "4f35c4e5",
        "outputId": "26a1867c-0fa9-4acc-82d1-6ae88887cc90"
      },
      "outputs": [
        {
          "data": {
            "image/png": "[encoded data removed]",
            "text/plain": [
              "<Figure size 1152x576 with 2 Axes>"
            ]
          },
          "metadata": {
            "needs_background": "light"
          },
          "output_type": "display_data"
        }
      ],
      "source": [
        "plot_box('time')"
      ]
    },
    {
      "cell_type": "code",
      "execution_count": null,
      "id": "b5bf341f",
      "metadata": {
        "id": "b5bf341f",
        "outputId": "231d6c8d-bd16-4b9d-ae4c-c3c4f192e25b"
      },
      "outputs": [
        {
          "data": {
            "text/plain": [
              "0    6PM\n",
              "dtype: object"
            ]
          },
          "execution_count": 13,
          "metadata": {},
          "output_type": "execute_result"
        }
      ],
      "source": [
        "df_cat['time'].mode()"
      ]
    },
    {
      "cell_type": "code",
      "execution_count": null,
      "id": "faf687b9",
      "metadata": {
        "id": "faf687b9",
        "outputId": "32656c52-b4a0-45c1-c8d9-5dea25ad7a48"
      },
      "outputs": [
        {
          "data": {
            "text/html": [
              "<div>\n",
              "<style scoped>\n",
              "    .dataframe tbody tr th:only-of-type {\n",
              "        vertical-align: middle;\n",
              "    }\n",
              "\n",
              "    .dataframe tbody tr th {\n",
              "        vertical-align: top;\n",
              "    }\n",
              "\n",
              "    .dataframe thead th {\n",
              "        text-align: right;\n",
              "    }\n",
              "</style>\n",
              "<table border=\"1\" class=\"dataframe\">\n",
              "  <thead>\n",
              "    <tr style=\"text-align: right;\">\n",
              "      <th></th>\n",
              "      <th>destination</th>\n",
              "      <th>time</th>\n",
              "      <th>Y</th>\n",
              "      <th>id</th>\n",
              "    </tr>\n",
              "  </thead>\n",
              "  <tbody>\n",
              "    <tr>\n",
              "      <th>0</th>\n",
              "      <td>Home</td>\n",
              "      <td>10PM</td>\n",
              "      <td>0</td>\n",
              "      <td>586</td>\n",
              "    </tr>\n",
              "    <tr>\n",
              "      <th>1</th>\n",
              "      <td>Home</td>\n",
              "      <td>10PM</td>\n",
              "      <td>1</td>\n",
              "      <td>472</td>\n",
              "    </tr>\n",
              "    <tr>\n",
              "      <th>2</th>\n",
              "      <td>Home</td>\n",
              "      <td>6PM</td>\n",
              "      <td>0</td>\n",
              "      <td>928</td>\n",
              "    </tr>\n",
              "    <tr>\n",
              "      <th>3</th>\n",
              "      <td>Home</td>\n",
              "      <td>6PM</td>\n",
              "      <td>1</td>\n",
              "      <td>1092</td>\n",
              "    </tr>\n",
              "    <tr>\n",
              "      <th>4</th>\n",
              "      <td>No Urgent Place</td>\n",
              "      <td>10AM</td>\n",
              "      <td>0</td>\n",
              "      <td>846</td>\n",
              "    </tr>\n",
              "    <tr>\n",
              "      <th>5</th>\n",
              "      <td>No Urgent Place</td>\n",
              "      <td>10AM</td>\n",
              "      <td>1</td>\n",
              "      <td>1308</td>\n",
              "    </tr>\n",
              "    <tr>\n",
              "      <th>6</th>\n",
              "      <td>No Urgent Place</td>\n",
              "      <td>10PM</td>\n",
              "      <td>0</td>\n",
              "      <td>333</td>\n",
              "    </tr>\n",
              "    <tr>\n",
              "      <th>7</th>\n",
              "      <td>No Urgent Place</td>\n",
              "      <td>10PM</td>\n",
              "      <td>1</td>\n",
              "      <td>505</td>\n",
              "    </tr>\n",
              "    <tr>\n",
              "      <th>8</th>\n",
              "      <td>No Urgent Place</td>\n",
              "      <td>2PM</td>\n",
              "      <td>0</td>\n",
              "      <td>649</td>\n",
              "    </tr>\n",
              "    <tr>\n",
              "      <th>9</th>\n",
              "      <td>No Urgent Place</td>\n",
              "      <td>2PM</td>\n",
              "      <td>1</td>\n",
              "      <td>1264</td>\n",
              "    </tr>\n",
              "    <tr>\n",
              "      <th>10</th>\n",
              "      <td>No Urgent Place</td>\n",
              "      <td>6PM</td>\n",
              "      <td>0</td>\n",
              "      <td>353</td>\n",
              "    </tr>\n",
              "    <tr>\n",
              "      <th>11</th>\n",
              "      <td>No Urgent Place</td>\n",
              "      <td>6PM</td>\n",
              "      <td>1</td>\n",
              "      <td>695</td>\n",
              "    </tr>\n",
              "    <tr>\n",
              "      <th>12</th>\n",
              "      <td>Work</td>\n",
              "      <td>7AM</td>\n",
              "      <td>0</td>\n",
              "      <td>1487</td>\n",
              "    </tr>\n",
              "    <tr>\n",
              "      <th>13</th>\n",
              "      <td>Work</td>\n",
              "      <td>7AM</td>\n",
              "      <td>1</td>\n",
              "      <td>1489</td>\n",
              "    </tr>\n",
              "  </tbody>\n",
              "</table>\n",
              "</div>"
            ],
            "text/plain": [
              "        destination  time  Y    id\n",
              "0              Home  10PM  0   586\n",
              "1              Home  10PM  1   472\n",
              "2              Home   6PM  0   928\n",
              "3              Home   6PM  1  1092\n",
              "4   No Urgent Place  10AM  0   846\n",
              "5   No Urgent Place  10AM  1  1308\n",
              "6   No Urgent Place  10PM  0   333\n",
              "7   No Urgent Place  10PM  1   505\n",
              "8   No Urgent Place   2PM  0   649\n",
              "9   No Urgent Place   2PM  1  1264\n",
              "10  No Urgent Place   6PM  0   353\n",
              "11  No Urgent Place   6PM  1   695\n",
              "12             Work   7AM  0  1487\n",
              "13             Work   7AM  1  1489"
            ]
          },
          "execution_count": 14,
          "metadata": {},
          "output_type": "execute_result"
        }
      ],
      "source": [
        " ndf = df_cat.groupby(['destination', 'time','Y']).agg({'id':'count'}).reset_index()\n",
        "ndf"
      ]
    },
    {
      "cell_type": "code",
      "execution_count": null,
      "id": "1c47340f",
      "metadata": {
        "id": "1c47340f"
      },
      "outputs": [],
      "source": [
        "def cr(vc):\n",
        "    return vc[1] / (vc[0] + vc[1]) * 100"
      ]
    },
    {
      "cell_type": "code",
      "execution_count": null,
      "id": "c36e6c4a",
      "metadata": {
        "id": "c36e6c4a",
        "outputId": "eea3dea6-b7da-4f6e-edea-65af183ccf3d"
      },
      "outputs": [
        {
          "data": {
            "text/plain": [
              "49.5004712535344"
            ]
          },
          "execution_count": 16,
          "metadata": {},
          "output_type": "execute_result"
        }
      ],
      "source": [
        "cr(df_cat[df_cat['expiration'] == '2h']['Y'].value_counts())"
      ]
    },
    {
      "cell_type": "code",
      "execution_count": null,
      "id": "76917dcd",
      "metadata": {
        "id": "76917dcd",
        "outputId": "0ceb486c-2f77-4141-d131-f7dd6cbd2f7c"
      },
      "outputs": [
        {
          "data": {
            "text/plain": [
              "49.5004712535344"
            ]
          },
          "execution_count": 17,
          "metadata": {},
          "output_type": "execute_result"
        }
      ],
      "source": [
        "cr(df_cat[df_cat['expiration'] == '2h']['Y'].value_counts())"
      ]
    },
    {
      "cell_type": "markdown",
      "id": "a82a25f2",
      "metadata": {
        "id": "a82a25f2"
      },
      "source": [
        "gimana cara tau pas 2h itu Y1 tinggi dimana biar bisa tau impulsif buying dimana, sama kalo coffeehouse selain 1-3 itu biasanya banyak dimana belinya..."
      ]
    },
    {
      "cell_type": "code",
      "execution_count": null,
      "id": "1a0fee7f",
      "metadata": {
        "scrolled": true,
        "id": "1a0fee7f",
        "outputId": "8a66aa7d-4516-4dc7-ca2d-c319e494cb75"
      },
      "outputs": [
        {
          "name": "stdout",
          "output_type": "stream",
          "text": [
            "tabel of coupon:\n",
            " coupon\n",
            "Bar                      160\n",
            "Carry out & Take away    404\n",
            "Coffee House             157\n",
            "Restaurant(20-50)        140\n",
            "Restaurant(<20)          423\n",
            "Name: Y, dtype: int64\n"
          ]
        }
      ],
      "source": [
        "cf =df_cat[(df_cat['CoffeeHouse']=='never') & (df_cat['Y'] == 1)]\n",
        "coupon = cf.groupby(['coupon'])['Y'].count()\n",
        "print('tabel of coupon:\\n',coupon)\n"
      ]
    },
    {
      "cell_type": "code",
      "execution_count": null,
      "id": "aaca2661",
      "metadata": {
        "id": "aaca2661",
        "outputId": "a73514bd-558e-4b35-abb6-6cfa7c4c691b"
      },
      "outputs": [
        {
          "data": {
            "image/png": "[encoded data removed]",
            "text/plain": [
              "<Figure size 576x432 with 1 Axes>"
            ]
          },
          "metadata": {
            "needs_background": "light"
          },
          "output_type": "display_data"
        }
      ],
      "source": [
        "ax = coupon.plot(kind='barh',xlabel='Jenis Kupon',use_index=True,figsize=(8,6), colormap='summer', fontsize=10)\n",
        "ax.set_alpha(0.8)\n",
        "ax.set_title('Distribusi Pemakaian Jenis Kupon \\nOleh Pelanggan Yang Tidak Pernah Ke Coffee House')\n",
        "ax.set_ylabel('Jumlah Pemakaian Kupon')\n",
        "plt.show()"
      ]
    },
    {
      "cell_type": "code",
      "execution_count": null,
      "id": "264a2570",
      "metadata": {
        "id": "264a2570",
        "outputId": "8c5db724-ac85-448a-c044-783316b7a812"
      },
      "outputs": [
        {
          "data": {
            "text/html": [
              "<div>\n",
              "<style scoped>\n",
              "    .dataframe tbody tr th:only-of-type {\n",
              "        vertical-align: middle;\n",
              "    }\n",
              "\n",
              "    .dataframe tbody tr th {\n",
              "        vertical-align: top;\n",
              "    }\n",
              "\n",
              "    .dataframe thead th {\n",
              "        text-align: right;\n",
              "    }\n",
              "</style>\n",
              "<table border=\"1\" class=\"dataframe\">\n",
              "  <thead>\n",
              "    <tr style=\"text-align: right;\">\n",
              "      <th></th>\n",
              "      <th>id</th>\n",
              "      <th>destination</th>\n",
              "      <th>passanger</th>\n",
              "      <th>weather</th>\n",
              "      <th>temperature</th>\n",
              "      <th>time</th>\n",
              "      <th>coupon</th>\n",
              "      <th>expiration</th>\n",
              "      <th>gender</th>\n",
              "      <th>age</th>\n",
              "      <th>...</th>\n",
              "      <th>income</th>\n",
              "      <th>Bar</th>\n",
              "      <th>CoffeeHouse</th>\n",
              "      <th>CarryAway</th>\n",
              "      <th>RestaurantLessThan20</th>\n",
              "      <th>Restaurant20To50</th>\n",
              "      <th>toCoupon_GEQ15min</th>\n",
              "      <th>toCoupon_GEQ25min</th>\n",
              "      <th>direction_same</th>\n",
              "      <th>Y</th>\n",
              "    </tr>\n",
              "  </thead>\n",
              "  <tbody>\n",
              "    <tr>\n",
              "      <th>171</th>\n",
              "      <td>193</td>\n",
              "      <td>No Urgent Place</td>\n",
              "      <td>Alone</td>\n",
              "      <td>Sunny</td>\n",
              "      <td>55</td>\n",
              "      <td>2PM</td>\n",
              "      <td>Restaurant(&lt;20)</td>\n",
              "      <td>1d</td>\n",
              "      <td>Male</td>\n",
              "      <td>21-30</td>\n",
              "      <td>...</td>\n",
              "      <td>$100000 or More</td>\n",
              "      <td>less1</td>\n",
              "      <td>never</td>\n",
              "      <td>gt8</td>\n",
              "      <td>1~3</td>\n",
              "      <td>less1</td>\n",
              "      <td>0</td>\n",
              "      <td>0</td>\n",
              "      <td>0</td>\n",
              "      <td>1</td>\n",
              "    </tr>\n",
              "    <tr>\n",
              "      <th>174</th>\n",
              "      <td>196</td>\n",
              "      <td>No Urgent Place</td>\n",
              "      <td>Friend(s)</td>\n",
              "      <td>Sunny</td>\n",
              "      <td>80</td>\n",
              "      <td>10AM</td>\n",
              "      <td>Carry out &amp; Take away</td>\n",
              "      <td>2h</td>\n",
              "      <td>Male</td>\n",
              "      <td>21-30</td>\n",
              "      <td>...</td>\n",
              "      <td>$100000 or More</td>\n",
              "      <td>less1</td>\n",
              "      <td>never</td>\n",
              "      <td>gt8</td>\n",
              "      <td>1~3</td>\n",
              "      <td>less1</td>\n",
              "      <td>1</td>\n",
              "      <td>0</td>\n",
              "      <td>0</td>\n",
              "      <td>1</td>\n",
              "    </tr>\n",
              "    <tr>\n",
              "      <th>178</th>\n",
              "      <td>200</td>\n",
              "      <td>No Urgent Place</td>\n",
              "      <td>Friend(s)</td>\n",
              "      <td>Sunny</td>\n",
              "      <td>80</td>\n",
              "      <td>2PM</td>\n",
              "      <td>Restaurant(&lt;20)</td>\n",
              "      <td>1d</td>\n",
              "      <td>Male</td>\n",
              "      <td>21-30</td>\n",
              "      <td>...</td>\n",
              "      <td>$100000 or More</td>\n",
              "      <td>less1</td>\n",
              "      <td>never</td>\n",
              "      <td>gt8</td>\n",
              "      <td>1~3</td>\n",
              "      <td>less1</td>\n",
              "      <td>1</td>\n",
              "      <td>0</td>\n",
              "      <td>0</td>\n",
              "      <td>1</td>\n",
              "    </tr>\n",
              "    <tr>\n",
              "      <th>180</th>\n",
              "      <td>202</td>\n",
              "      <td>No Urgent Place</td>\n",
              "      <td>Friend(s)</td>\n",
              "      <td>Sunny</td>\n",
              "      <td>80</td>\n",
              "      <td>6PM</td>\n",
              "      <td>Restaurant(&lt;20)</td>\n",
              "      <td>2h</td>\n",
              "      <td>Male</td>\n",
              "      <td>21-30</td>\n",
              "      <td>...</td>\n",
              "      <td>$100000 or More</td>\n",
              "      <td>less1</td>\n",
              "      <td>never</td>\n",
              "      <td>gt8</td>\n",
              "      <td>1~3</td>\n",
              "      <td>less1</td>\n",
              "      <td>1</td>\n",
              "      <td>0</td>\n",
              "      <td>0</td>\n",
              "      <td>1</td>\n",
              "    </tr>\n",
              "    <tr>\n",
              "      <th>182</th>\n",
              "      <td>204</td>\n",
              "      <td>No Urgent Place</td>\n",
              "      <td>Friend(s)</td>\n",
              "      <td>Sunny</td>\n",
              "      <td>55</td>\n",
              "      <td>2PM</td>\n",
              "      <td>Carry out &amp; Take away</td>\n",
              "      <td>1d</td>\n",
              "      <td>Male</td>\n",
              "      <td>21-30</td>\n",
              "      <td>...</td>\n",
              "      <td>$100000 or More</td>\n",
              "      <td>less1</td>\n",
              "      <td>never</td>\n",
              "      <td>gt8</td>\n",
              "      <td>1~3</td>\n",
              "      <td>less1</td>\n",
              "      <td>1</td>\n",
              "      <td>0</td>\n",
              "      <td>0</td>\n",
              "      <td>1</td>\n",
              "    </tr>\n",
              "    <tr>\n",
              "      <th>...</th>\n",
              "      <td>...</td>\n",
              "      <td>...</td>\n",
              "      <td>...</td>\n",
              "      <td>...</td>\n",
              "      <td>...</td>\n",
              "      <td>...</td>\n",
              "      <td>...</td>\n",
              "      <td>...</td>\n",
              "      <td>...</td>\n",
              "      <td>...</td>\n",
              "      <td>...</td>\n",
              "      <td>...</td>\n",
              "      <td>...</td>\n",
              "      <td>...</td>\n",
              "      <td>...</td>\n",
              "      <td>...</td>\n",
              "      <td>...</td>\n",
              "      <td>...</td>\n",
              "      <td>...</td>\n",
              "      <td>...</td>\n",
              "      <td>...</td>\n",
              "    </tr>\n",
              "    <tr>\n",
              "      <th>11994</th>\n",
              "      <td>12671</td>\n",
              "      <td>No Urgent Place</td>\n",
              "      <td>Partner</td>\n",
              "      <td>Snowy</td>\n",
              "      <td>30</td>\n",
              "      <td>10AM</td>\n",
              "      <td>Restaurant(&lt;20)</td>\n",
              "      <td>1d</td>\n",
              "      <td>Male</td>\n",
              "      <td>21-30</td>\n",
              "      <td>...</td>\n",
              "      <td>$75000 - $87499</td>\n",
              "      <td>never</td>\n",
              "      <td>never</td>\n",
              "      <td>1~3</td>\n",
              "      <td>4~8</td>\n",
              "      <td>1~3</td>\n",
              "      <td>0</td>\n",
              "      <td>0</td>\n",
              "      <td>0</td>\n",
              "      <td>1</td>\n",
              "    </tr>\n",
              "    <tr>\n",
              "      <th>11999</th>\n",
              "      <td>12676</td>\n",
              "      <td>Home</td>\n",
              "      <td>Alone</td>\n",
              "      <td>Sunny</td>\n",
              "      <td>80</td>\n",
              "      <td>6PM</td>\n",
              "      <td>Restaurant(20-50)</td>\n",
              "      <td>1d</td>\n",
              "      <td>Male</td>\n",
              "      <td>21-30</td>\n",
              "      <td>...</td>\n",
              "      <td>$75000 - $87499</td>\n",
              "      <td>never</td>\n",
              "      <td>never</td>\n",
              "      <td>1~3</td>\n",
              "      <td>4~8</td>\n",
              "      <td>1~3</td>\n",
              "      <td>0</td>\n",
              "      <td>0</td>\n",
              "      <td>1</td>\n",
              "      <td>1</td>\n",
              "    </tr>\n",
              "    <tr>\n",
              "      <th>12000</th>\n",
              "      <td>12677</td>\n",
              "      <td>Home</td>\n",
              "      <td>Partner</td>\n",
              "      <td>Sunny</td>\n",
              "      <td>30</td>\n",
              "      <td>6PM</td>\n",
              "      <td>Restaurant(&lt;20)</td>\n",
              "      <td>1d</td>\n",
              "      <td>Male</td>\n",
              "      <td>21-30</td>\n",
              "      <td>...</td>\n",
              "      <td>$75000 - $87499</td>\n",
              "      <td>never</td>\n",
              "      <td>never</td>\n",
              "      <td>1~3</td>\n",
              "      <td>4~8</td>\n",
              "      <td>1~3</td>\n",
              "      <td>1</td>\n",
              "      <td>1</td>\n",
              "      <td>0</td>\n",
              "      <td>1</td>\n",
              "    </tr>\n",
              "    <tr>\n",
              "      <th>12002</th>\n",
              "      <td>12679</td>\n",
              "      <td>Home</td>\n",
              "      <td>Partner</td>\n",
              "      <td>Rainy</td>\n",
              "      <td>55</td>\n",
              "      <td>6PM</td>\n",
              "      <td>Carry out &amp; Take away</td>\n",
              "      <td>1d</td>\n",
              "      <td>Male</td>\n",
              "      <td>21-30</td>\n",
              "      <td>...</td>\n",
              "      <td>$75000 - $87499</td>\n",
              "      <td>never</td>\n",
              "      <td>never</td>\n",
              "      <td>1~3</td>\n",
              "      <td>4~8</td>\n",
              "      <td>1~3</td>\n",
              "      <td>0</td>\n",
              "      <td>0</td>\n",
              "      <td>1</td>\n",
              "      <td>1</td>\n",
              "    </tr>\n",
              "    <tr>\n",
              "      <th>12003</th>\n",
              "      <td>12680</td>\n",
              "      <td>Work</td>\n",
              "      <td>Alone</td>\n",
              "      <td>Rainy</td>\n",
              "      <td>55</td>\n",
              "      <td>7AM</td>\n",
              "      <td>Carry out &amp; Take away</td>\n",
              "      <td>1d</td>\n",
              "      <td>Male</td>\n",
              "      <td>21-30</td>\n",
              "      <td>...</td>\n",
              "      <td>$75000 - $87499</td>\n",
              "      <td>never</td>\n",
              "      <td>never</td>\n",
              "      <td>1~3</td>\n",
              "      <td>4~8</td>\n",
              "      <td>1~3</td>\n",
              "      <td>0</td>\n",
              "      <td>0</td>\n",
              "      <td>0</td>\n",
              "      <td>1</td>\n",
              "    </tr>\n",
              "  </tbody>\n",
              "</table>\n",
              "<p>1284 rows × 24 columns</p>\n",
              "</div>"
            ],
            "text/plain": [
              "          id      destination  passanger weather  temperature  time  \\\n",
              "171      193  No Urgent Place      Alone   Sunny           55   2PM   \n",
              "174      196  No Urgent Place  Friend(s)   Sunny           80  10AM   \n",
              "178      200  No Urgent Place  Friend(s)   Sunny           80   2PM   \n",
              "180      202  No Urgent Place  Friend(s)   Sunny           80   6PM   \n",
              "182      204  No Urgent Place  Friend(s)   Sunny           55   2PM   \n",
              "...      ...              ...        ...     ...          ...   ...   \n",
              "11994  12671  No Urgent Place    Partner   Snowy           30  10AM   \n",
              "11999  12676             Home      Alone   Sunny           80   6PM   \n",
              "12000  12677             Home    Partner   Sunny           30   6PM   \n",
              "12002  12679             Home    Partner   Rainy           55   6PM   \n",
              "12003  12680             Work      Alone   Rainy           55   7AM   \n",
              "\n",
              "                      coupon expiration gender    age  ...           income  \\\n",
              "171          Restaurant(<20)         1d   Male  21-30  ...  $100000 or More   \n",
              "174    Carry out & Take away         2h   Male  21-30  ...  $100000 or More   \n",
              "178          Restaurant(<20)         1d   Male  21-30  ...  $100000 or More   \n",
              "180          Restaurant(<20)         2h   Male  21-30  ...  $100000 or More   \n",
              "182    Carry out & Take away         1d   Male  21-30  ...  $100000 or More   \n",
              "...                      ...        ...    ...    ...  ...              ...   \n",
              "11994        Restaurant(<20)         1d   Male  21-30  ...  $75000 - $87499   \n",
              "11999      Restaurant(20-50)         1d   Male  21-30  ...  $75000 - $87499   \n",
              "12000        Restaurant(<20)         1d   Male  21-30  ...  $75000 - $87499   \n",
              "12002  Carry out & Take away         1d   Male  21-30  ...  $75000 - $87499   \n",
              "12003  Carry out & Take away         1d   Male  21-30  ...  $75000 - $87499   \n",
              "\n",
              "         Bar CoffeeHouse CarryAway RestaurantLessThan20 Restaurant20To50  \\\n",
              "171    less1       never       gt8                  1~3            less1   \n",
              "174    less1       never       gt8                  1~3            less1   \n",
              "178    less1       never       gt8                  1~3            less1   \n",
              "180    less1       never       gt8                  1~3            less1   \n",
              "182    less1       never       gt8                  1~3            less1   \n",
              "...      ...         ...       ...                  ...              ...   \n",
              "11994  never       never       1~3                  4~8              1~3   \n",
              "11999  never       never       1~3                  4~8              1~3   \n",
              "12000  never       never       1~3                  4~8              1~3   \n",
              "12002  never       never       1~3                  4~8              1~3   \n",
              "12003  never       never       1~3                  4~8              1~3   \n",
              "\n",
              "      toCoupon_GEQ15min toCoupon_GEQ25min direction_same  Y  \n",
              "171                   0                 0              0  1  \n",
              "174                   1                 0              0  1  \n",
              "178                   1                 0              0  1  \n",
              "180                   1                 0              0  1  \n",
              "182                   1                 0              0  1  \n",
              "...                 ...               ...            ... ..  \n",
              "11994                 0                 0              0  1  \n",
              "11999                 0                 0              1  1  \n",
              "12000                 1                 1              0  1  \n",
              "12002                 0                 0              1  1  \n",
              "12003                 0                 0              0  1  \n",
              "\n",
              "[1284 rows x 24 columns]"
            ]
          },
          "execution_count": 87,
          "metadata": {},
          "output_type": "execute_result"
        }
      ],
      "source": [
        "cf"
      ]
    },
    {
      "cell_type": "code",
      "execution_count": null,
      "id": "d52c751a",
      "metadata": {
        "id": "d52c751a",
        "outputId": "a79a212f-059f-4af0-a1be-77ead65607a2"
      },
      "outputs": [
        {
          "name": "stdout",
          "output_type": "stream",
          "text": [
            "tabel of carryaway:\n",
            " CarryAway\n",
            "1~3      461\n",
            "4~8      423\n",
            "gt8       88\n",
            "less1    263\n",
            "never     49\n",
            "Name: Y, dtype: int64\n",
            "AxesSubplot(0.125,0.125;0.775x0.755)\n"
          ]
        },
        {
          "data": {
            "image/png": "[encoded data removed]",
            "text/plain": [
              "<Figure size 576x432 with 1 Axes>"
            ]
          },
          "metadata": {
            "needs_background": "light"
          },
          "output_type": "display_data"
        }
      ],
      "source": [
        "carryaway = cf.groupby(['CarryAway'])['Y'].count()\n",
        "print('tabel of carryaway:\\n',carryaway)\n",
        "print(carryaway.plot(kind='bar',title='carryaway',ylabel='sum of carryaway',xlabel='carryaway',figsize=(8,6)))"
      ]
    },
    {
      "cell_type": "code",
      "execution_count": null,
      "id": "2cc63208",
      "metadata": {
        "id": "2cc63208",
        "outputId": "54dbafb2-4d8b-4499-8cd3-8ff561adfa3a"
      },
      "outputs": [
        {
          "name": "stdout",
          "output_type": "stream",
          "text": [
            "tabel of Restaurant less than 20 dollar:\n",
            " RestaurantLessThan20\n",
            "1~3      472\n",
            "4~8      325\n",
            "gt8       88\n",
            "less1    335\n",
            "never     64\n",
            "Name: Y, dtype: int64\n",
            "AxesSubplot(0.125,0.125;0.775x0.755)\n"
          ]
        },
        {
          "data": {
            "image/png": "[encoded data removed]",
            "text/plain": [
              "<Figure size 576x432 with 1 Axes>"
            ]
          },
          "metadata": {
            "needs_background": "light"
          },
          "output_type": "display_data"
        }
      ],
      "source": [
        "restoless20= cf.groupby(['RestaurantLessThan20'])['Y'].count()\n",
        "print('tabel of Restaurant less than 20 dollar:\\n',restoless20)\n",
        "print(restoless20.plot(kind='bar',title='resto',ylabel='sum of resto',xlabel='resto',figsize=(8,6)))"
      ]
    },
    {
      "cell_type": "code",
      "execution_count": null,
      "id": "8254c340",
      "metadata": {
        "id": "8254c340",
        "outputId": "ae6c98ea-a937-4518-f753-5dd883ae8635"
      },
      "outputs": [
        {
          "data": {
            "text/plain": [
              "Bar\n",
              "1~3      224\n",
              "4~8       66\n",
              "gt8       25\n",
              "less1    272\n",
              "never    697\n",
              "Name: Y, dtype: int64"
            ]
          },
          "execution_count": 86,
          "metadata": {},
          "output_type": "execute_result"
        }
      ],
      "source": [
        "cf.groupby(['Bar'])['Y'].count()"
      ]
    },
    {
      "cell_type": "code",
      "execution_count": null,
      "id": "02ff3cf0",
      "metadata": {
        "scrolled": true,
        "id": "02ff3cf0",
        "outputId": "c49aa0e3-ec7b-4988-8f42-198bafdefe4c"
      },
      "outputs": [
        {
          "name": "stdout",
          "output_type": "stream",
          "text": [
            "Value count column id:\n",
            "193      1\n",
            "8093     1\n",
            "8560     1\n",
            "8559     1\n",
            "8552     1\n",
            "        ..\n",
            "4366     1\n",
            "4365     1\n",
            "4362     1\n",
            "4361     1\n",
            "12680    1\n",
            "Name: id, Length: 1284, dtype: int64\n",
            "\n",
            "Value count column destination:\n",
            "No Urgent Place    679\n",
            "Home               318\n",
            "Work               287\n",
            "Name: destination, dtype: int64\n",
            "\n",
            "Value count column passanger:\n",
            "Alone        698\n",
            "Friend(s)    393\n",
            "Partner      115\n",
            "Kid(s)        78\n",
            "Name: passanger, dtype: int64\n",
            "\n",
            "Value count column weather:\n",
            "Sunny    1052\n",
            "Snowy     122\n",
            "Rainy     110\n",
            "Name: weather, dtype: int64\n",
            "\n",
            "Value count column temperature:\n",
            "80    683\n",
            "55    352\n",
            "30    249\n",
            "Name: temperature, dtype: int64\n",
            "\n",
            "Value count column time:\n",
            "6PM     345\n",
            "7AM     287\n",
            "10PM    229\n",
            "10AM    213\n",
            "2PM     210\n",
            "Name: time, dtype: int64\n",
            "\n",
            "Value count column coupon:\n",
            "Restaurant(<20)          423\n",
            "Carry out & Take away    404\n",
            "Bar                      160\n",
            "Coffee House             157\n",
            "Restaurant(20-50)        140\n",
            "Name: coupon, dtype: int64\n",
            "\n",
            "Value count column expiration:\n",
            "1d    835\n",
            "2h    449\n",
            "Name: expiration, dtype: int64\n",
            "\n",
            "Value count column gender:\n",
            "Male      759\n",
            "Female    525\n",
            "Name: gender, dtype: int64\n",
            "\n",
            "Value count column age:\n",
            "21-30    523\n",
            "31-40    379\n",
            ">50      204\n",
            "41-50    146\n",
            "<21       32\n",
            "Name: age, dtype: int64\n",
            "\n",
            "Value count column maritalStatus:\n",
            "Single               547\n",
            "Married partner      480\n",
            "Unmarried partner    198\n",
            "Divorced              32\n",
            "Widowed               27\n",
            "Name: maritalStatus, dtype: int64\n",
            "\n",
            "Value count column has_children:\n",
            "0    824\n",
            "1    460\n",
            "Name: has_children, dtype: int64\n",
            "\n",
            "Value count column education:\n",
            "Some college - no degree                  467\n",
            "Bachelors degree                          466\n",
            "High School Graduate                      129\n",
            "Graduate degree (Masters or Doctorate)    108\n",
            "Associates degree                         101\n",
            "Some High School                           13\n",
            "Name: education, dtype: int64\n",
            "\n",
            "Value count column occupation:\n",
            "Unemployed                                  182\n",
            "Sales & Related                             162\n",
            "Student                                     124\n",
            "Office & Administrative Support             118\n",
            "Computer & Mathematical                      98\n",
            "Education&Training&Library                   74\n",
            "Retired                                      70\n",
            "Management                                   66\n",
            "Arts Design Entertainment Sports & Media     50\n",
            "Construction & Extraction                    50\n",
            "Architecture & Engineering                   38\n",
            "Protective Service                           38\n",
            "Life Physical Social Science                 38\n",
            "Food Preparation & Serving Related           38\n",
            "Community & Social Services                  33\n",
            "Production Occupations                       24\n",
            "Legal                                        23\n",
            "Personal Care & Service                      13\n",
            "Healthcare Practitioners & Technical         11\n",
            "Business & Financial                         10\n",
            "Transportation & Material Moving              9\n",
            "Installation Maintenance & Repair             8\n",
            "Farming Fishing & Forestry                    7\n",
            "Name: occupation, dtype: int64\n",
            "\n",
            "Value count column income:\n",
            "$50000 - $62499     257\n",
            "$25000 - $37499     254\n",
            "$75000 - $87499     159\n",
            "$100000 or More     146\n",
            "$37500 - $49999     142\n",
            "$12500 - $24999     138\n",
            "Less than $12500    103\n",
            "$62500 - $74999      54\n",
            "$87500 - $99999      31\n",
            "Name: income, dtype: int64\n",
            "\n",
            "Value count column Bar:\n",
            "never    697\n",
            "less1    272\n",
            "1~3      224\n",
            "4~8       66\n",
            "gt8       25\n",
            "Name: Bar, dtype: int64\n",
            "\n",
            "Value count column CoffeeHouse:\n",
            "never    1284\n",
            "Name: CoffeeHouse, dtype: int64\n",
            "\n",
            "Value count column CarryAway:\n",
            "1~3      461\n",
            "4~8      423\n",
            "less1    263\n",
            "gt8       88\n",
            "never     49\n",
            "Name: CarryAway, dtype: int64\n",
            "\n",
            "Value count column RestaurantLessThan20:\n",
            "1~3      472\n",
            "less1    335\n",
            "4~8      325\n",
            "gt8       88\n",
            "never     64\n",
            "Name: RestaurantLessThan20, dtype: int64\n",
            "\n",
            "Value count column Restaurant20To50:\n",
            "less1    533\n",
            "1~3      378\n",
            "never    356\n",
            "4~8       17\n",
            "Name: Restaurant20To50, dtype: int64\n",
            "\n",
            "Value count column toCoupon_GEQ15min:\n",
            "1    706\n",
            "0    578\n",
            "Name: toCoupon_GEQ15min, dtype: int64\n",
            "\n",
            "Value count column toCoupon_GEQ25min:\n",
            "0    1152\n",
            "1     132\n",
            "Name: toCoupon_GEQ25min, dtype: int64\n",
            "\n",
            "Value count column direction_same:\n",
            "0    979\n",
            "1    305\n",
            "Name: direction_same, dtype: int64\n",
            "\n",
            "Value count column Y:\n",
            "1    1284\n",
            "Name: Y, dtype: int64\n",
            "\n"
          ]
        }
      ],
      "source": [
        "for kolom in cf:\n",
        "    print(f'''Value count column {kolom}:''')\n",
        "    print(cf[kolom].value_counts())\n",
        "    print()"
      ]
    },
    {
      "cell_type": "code",
      "execution_count": null,
      "id": "5b09e9ab",
      "metadata": {
        "id": "5b09e9ab",
        "outputId": "0dbd4f9f-683b-44ad-f942-917d00aba669"
      },
      "outputs": [
        {
          "data": {
            "text/html": [
              "<div>\n",
              "<style scoped>\n",
              "    .dataframe tbody tr th:only-of-type {\n",
              "        vertical-align: middle;\n",
              "    }\n",
              "\n",
              "    .dataframe tbody tr th {\n",
              "        vertical-align: top;\n",
              "    }\n",
              "\n",
              "    .dataframe thead th {\n",
              "        text-align: right;\n",
              "    }\n",
              "</style>\n",
              "<table border=\"1\" class=\"dataframe\">\n",
              "  <thead>\n",
              "    <tr style=\"text-align: right;\">\n",
              "      <th></th>\n",
              "      <th>expiration</th>\n",
              "      <th>Y</th>\n",
              "      <th>time</th>\n",
              "      <th>id</th>\n",
              "    </tr>\n",
              "  </thead>\n",
              "  <tbody>\n",
              "    <tr>\n",
              "      <th>0</th>\n",
              "      <td>1d</td>\n",
              "      <td>1</td>\n",
              "      <td>10AM</td>\n",
              "      <td>595</td>\n",
              "    </tr>\n",
              "    <tr>\n",
              "      <th>1</th>\n",
              "      <td>1d</td>\n",
              "      <td>1</td>\n",
              "      <td>10PM</td>\n",
              "      <td>647</td>\n",
              "    </tr>\n",
              "    <tr>\n",
              "      <th>2</th>\n",
              "      <td>1d</td>\n",
              "      <td>1</td>\n",
              "      <td>2PM</td>\n",
              "      <td>885</td>\n",
              "    </tr>\n",
              "    <tr>\n",
              "      <th>3</th>\n",
              "      <td>1d</td>\n",
              "      <td>1</td>\n",
              "      <td>6PM</td>\n",
              "      <td>1024</td>\n",
              "    </tr>\n",
              "    <tr>\n",
              "      <th>4</th>\n",
              "      <td>1d</td>\n",
              "      <td>1</td>\n",
              "      <td>7AM</td>\n",
              "      <td>1048</td>\n",
              "    </tr>\n",
              "    <tr>\n",
              "      <th>5</th>\n",
              "      <td>2h</td>\n",
              "      <td>1</td>\n",
              "      <td>10AM</td>\n",
              "      <td>713</td>\n",
              "    </tr>\n",
              "    <tr>\n",
              "      <th>6</th>\n",
              "      <td>2h</td>\n",
              "      <td>1</td>\n",
              "      <td>10PM</td>\n",
              "      <td>330</td>\n",
              "    </tr>\n",
              "    <tr>\n",
              "      <th>7</th>\n",
              "      <td>2h</td>\n",
              "      <td>1</td>\n",
              "      <td>2PM</td>\n",
              "      <td>379</td>\n",
              "    </tr>\n",
              "    <tr>\n",
              "      <th>8</th>\n",
              "      <td>2h</td>\n",
              "      <td>1</td>\n",
              "      <td>6PM</td>\n",
              "      <td>763</td>\n",
              "    </tr>\n",
              "    <tr>\n",
              "      <th>9</th>\n",
              "      <td>2h</td>\n",
              "      <td>1</td>\n",
              "      <td>7AM</td>\n",
              "      <td>441</td>\n",
              "    </tr>\n",
              "  </tbody>\n",
              "</table>\n",
              "</div>"
            ],
            "text/plain": [
              "  expiration  Y  time    id\n",
              "0         1d  1  10AM   595\n",
              "1         1d  1  10PM   647\n",
              "2         1d  1   2PM   885\n",
              "3         1d  1   6PM  1024\n",
              "4         1d  1   7AM  1048\n",
              "5         2h  1  10AM   713\n",
              "6         2h  1  10PM   330\n",
              "7         2h  1   2PM   379\n",
              "8         2h  1   6PM   763\n",
              "9         2h  1   7AM   441"
            ]
          },
          "execution_count": 36,
          "metadata": {},
          "output_type": "execute_result"
        }
      ],
      "source": [
        "Y1 = df_cat[df_cat['Y']==1]\n",
        "Y1.groupby(['expiration','Y','time']).agg({'id':'count'}).reset_index()"
      ]
    },
    {
      "cell_type": "markdown",
      "id": "c97552e9",
      "metadata": {
        "id": "c97552e9"
      },
      "source": [
        "Coffe house 1-3 bisa diberikan kupon terkait, sedangkan untuk kelas lainnya bisa diberikan rekomendasi kupon CarryAway dan restoran kurang dari 20 dollar.\n",
        "Expiration 2h bisa diberikan pada saat jam 10 pagi."
      ]
    },
    {
      "cell_type": "code",
      "execution_count": null,
      "id": "b67879ce",
      "metadata": {
        "id": "b67879ce",
        "outputId": "86150768-7ef5-4960-ff39-e50d00d3d3bb"
      },
      "outputs": [
        {
          "data": {
            "text/html": [
              "<div>\n",
              "<style scoped>\n",
              "    .dataframe tbody tr th:only-of-type {\n",
              "        vertical-align: middle;\n",
              "    }\n",
              "\n",
              "    .dataframe tbody tr th {\n",
              "        vertical-align: top;\n",
              "    }\n",
              "\n",
              "    .dataframe thead th {\n",
              "        text-align: right;\n",
              "    }\n",
              "</style>\n",
              "<table border=\"1\" class=\"dataframe\">\n",
              "  <thead>\n",
              "    <tr style=\"text-align: right;\">\n",
              "      <th></th>\n",
              "      <th>id</th>\n",
              "      <th>destination</th>\n",
              "      <th>passanger</th>\n",
              "      <th>weather</th>\n",
              "      <th>temperature</th>\n",
              "      <th>time</th>\n",
              "      <th>coupon</th>\n",
              "      <th>expiration</th>\n",
              "      <th>gender</th>\n",
              "      <th>age</th>\n",
              "      <th>...</th>\n",
              "      <th>income</th>\n",
              "      <th>Bar</th>\n",
              "      <th>CoffeeHouse</th>\n",
              "      <th>CarryAway</th>\n",
              "      <th>RestaurantLessThan20</th>\n",
              "      <th>Restaurant20To50</th>\n",
              "      <th>toCoupon_GEQ15min</th>\n",
              "      <th>toCoupon_GEQ25min</th>\n",
              "      <th>direction_same</th>\n",
              "      <th>Y</th>\n",
              "    </tr>\n",
              "  </thead>\n",
              "  <tbody>\n",
              "    <tr>\n",
              "      <th>23</th>\n",
              "      <td>45</td>\n",
              "      <td>No Urgent Place</td>\n",
              "      <td>Friend(s)</td>\n",
              "      <td>Sunny</td>\n",
              "      <td>80</td>\n",
              "      <td>10AM</td>\n",
              "      <td>Coffee House</td>\n",
              "      <td>2h</td>\n",
              "      <td>Male</td>\n",
              "      <td>41-50</td>\n",
              "      <td>...</td>\n",
              "      <td>$12500 - $24999</td>\n",
              "      <td>never</td>\n",
              "      <td>4~8</td>\n",
              "      <td>1~3</td>\n",
              "      <td>1~3</td>\n",
              "      <td>never</td>\n",
              "      <td>0</td>\n",
              "      <td>0</td>\n",
              "      <td>0</td>\n",
              "      <td>1</td>\n",
              "    </tr>\n",
              "    <tr>\n",
              "      <th>25</th>\n",
              "      <td>47</td>\n",
              "      <td>No Urgent Place</td>\n",
              "      <td>Friend(s)</td>\n",
              "      <td>Sunny</td>\n",
              "      <td>80</td>\n",
              "      <td>10AM</td>\n",
              "      <td>Carry out &amp; Take away</td>\n",
              "      <td>2h</td>\n",
              "      <td>Male</td>\n",
              "      <td>41-50</td>\n",
              "      <td>...</td>\n",
              "      <td>$12500 - $24999</td>\n",
              "      <td>never</td>\n",
              "      <td>4~8</td>\n",
              "      <td>1~3</td>\n",
              "      <td>1~3</td>\n",
              "      <td>never</td>\n",
              "      <td>1</td>\n",
              "      <td>0</td>\n",
              "      <td>0</td>\n",
              "      <td>1</td>\n",
              "    </tr>\n",
              "    <tr>\n",
              "      <th>34</th>\n",
              "      <td>56</td>\n",
              "      <td>No Urgent Place</td>\n",
              "      <td>Alone</td>\n",
              "      <td>Sunny</td>\n",
              "      <td>55</td>\n",
              "      <td>10AM</td>\n",
              "      <td>Coffee House</td>\n",
              "      <td>2h</td>\n",
              "      <td>Male</td>\n",
              "      <td>41-50</td>\n",
              "      <td>...</td>\n",
              "      <td>$12500 - $24999</td>\n",
              "      <td>never</td>\n",
              "      <td>4~8</td>\n",
              "      <td>1~3</td>\n",
              "      <td>1~3</td>\n",
              "      <td>never</td>\n",
              "      <td>0</td>\n",
              "      <td>0</td>\n",
              "      <td>0</td>\n",
              "      <td>1</td>\n",
              "    </tr>\n",
              "    <tr>\n",
              "      <th>45</th>\n",
              "      <td>67</td>\n",
              "      <td>No Urgent Place</td>\n",
              "      <td>Friend(s)</td>\n",
              "      <td>Sunny</td>\n",
              "      <td>80</td>\n",
              "      <td>10AM</td>\n",
              "      <td>Coffee House</td>\n",
              "      <td>2h</td>\n",
              "      <td>Male</td>\n",
              "      <td>41-50</td>\n",
              "      <td>...</td>\n",
              "      <td>$75000 - $87499</td>\n",
              "      <td>less1</td>\n",
              "      <td>1~3</td>\n",
              "      <td>1~3</td>\n",
              "      <td>1~3</td>\n",
              "      <td>less1</td>\n",
              "      <td>0</td>\n",
              "      <td>0</td>\n",
              "      <td>0</td>\n",
              "      <td>1</td>\n",
              "    </tr>\n",
              "    <tr>\n",
              "      <th>46</th>\n",
              "      <td>68</td>\n",
              "      <td>No Urgent Place</td>\n",
              "      <td>Friend(s)</td>\n",
              "      <td>Sunny</td>\n",
              "      <td>80</td>\n",
              "      <td>10AM</td>\n",
              "      <td>Carry out &amp; Take away</td>\n",
              "      <td>2h</td>\n",
              "      <td>Male</td>\n",
              "      <td>41-50</td>\n",
              "      <td>...</td>\n",
              "      <td>$75000 - $87499</td>\n",
              "      <td>less1</td>\n",
              "      <td>1~3</td>\n",
              "      <td>1~3</td>\n",
              "      <td>1~3</td>\n",
              "      <td>less1</td>\n",
              "      <td>1</td>\n",
              "      <td>0</td>\n",
              "      <td>0</td>\n",
              "      <td>1</td>\n",
              "    </tr>\n",
              "    <tr>\n",
              "      <th>...</th>\n",
              "      <td>...</td>\n",
              "      <td>...</td>\n",
              "      <td>...</td>\n",
              "      <td>...</td>\n",
              "      <td>...</td>\n",
              "      <td>...</td>\n",
              "      <td>...</td>\n",
              "      <td>...</td>\n",
              "      <td>...</td>\n",
              "      <td>...</td>\n",
              "      <td>...</td>\n",
              "      <td>...</td>\n",
              "      <td>...</td>\n",
              "      <td>...</td>\n",
              "      <td>...</td>\n",
              "      <td>...</td>\n",
              "      <td>...</td>\n",
              "      <td>...</td>\n",
              "      <td>...</td>\n",
              "      <td>...</td>\n",
              "      <td>...</td>\n",
              "    </tr>\n",
              "    <tr>\n",
              "      <th>11938</th>\n",
              "      <td>12615</td>\n",
              "      <td>No Urgent Place</td>\n",
              "      <td>Friend(s)</td>\n",
              "      <td>Sunny</td>\n",
              "      <td>30</td>\n",
              "      <td>10AM</td>\n",
              "      <td>Carry out &amp; Take away</td>\n",
              "      <td>2h</td>\n",
              "      <td>Female</td>\n",
              "      <td>21-30</td>\n",
              "      <td>...</td>\n",
              "      <td>$37500 - $49999</td>\n",
              "      <td>never</td>\n",
              "      <td>4~8</td>\n",
              "      <td>1~3</td>\n",
              "      <td>1~3</td>\n",
              "      <td>less1</td>\n",
              "      <td>0</td>\n",
              "      <td>0</td>\n",
              "      <td>0</td>\n",
              "      <td>1</td>\n",
              "    </tr>\n",
              "    <tr>\n",
              "      <th>11968</th>\n",
              "      <td>12645</td>\n",
              "      <td>No Urgent Place</td>\n",
              "      <td>Friend(s)</td>\n",
              "      <td>Sunny</td>\n",
              "      <td>30</td>\n",
              "      <td>10AM</td>\n",
              "      <td>Carry out &amp; Take away</td>\n",
              "      <td>2h</td>\n",
              "      <td>Male</td>\n",
              "      <td>31-40</td>\n",
              "      <td>...</td>\n",
              "      <td>$100000 or More</td>\n",
              "      <td>less1</td>\n",
              "      <td>never</td>\n",
              "      <td>4~8</td>\n",
              "      <td>gt8</td>\n",
              "      <td>less1</td>\n",
              "      <td>0</td>\n",
              "      <td>0</td>\n",
              "      <td>0</td>\n",
              "      <td>1</td>\n",
              "    </tr>\n",
              "    <tr>\n",
              "      <th>11971</th>\n",
              "      <td>12648</td>\n",
              "      <td>No Urgent Place</td>\n",
              "      <td>Alone</td>\n",
              "      <td>Sunny</td>\n",
              "      <td>80</td>\n",
              "      <td>10AM</td>\n",
              "      <td>Restaurant(&lt;20)</td>\n",
              "      <td>2h</td>\n",
              "      <td>Male</td>\n",
              "      <td>31-40</td>\n",
              "      <td>...</td>\n",
              "      <td>$100000 or More</td>\n",
              "      <td>less1</td>\n",
              "      <td>never</td>\n",
              "      <td>4~8</td>\n",
              "      <td>gt8</td>\n",
              "      <td>less1</td>\n",
              "      <td>0</td>\n",
              "      <td>0</td>\n",
              "      <td>0</td>\n",
              "      <td>1</td>\n",
              "    </tr>\n",
              "    <tr>\n",
              "      <th>11988</th>\n",
              "      <td>12665</td>\n",
              "      <td>No Urgent Place</td>\n",
              "      <td>Friend(s)</td>\n",
              "      <td>Sunny</td>\n",
              "      <td>30</td>\n",
              "      <td>10AM</td>\n",
              "      <td>Carry out &amp; Take away</td>\n",
              "      <td>2h</td>\n",
              "      <td>Male</td>\n",
              "      <td>21-30</td>\n",
              "      <td>...</td>\n",
              "      <td>$75000 - $87499</td>\n",
              "      <td>never</td>\n",
              "      <td>never</td>\n",
              "      <td>1~3</td>\n",
              "      <td>4~8</td>\n",
              "      <td>1~3</td>\n",
              "      <td>0</td>\n",
              "      <td>0</td>\n",
              "      <td>0</td>\n",
              "      <td>1</td>\n",
              "    </tr>\n",
              "    <tr>\n",
              "      <th>11991</th>\n",
              "      <td>12668</td>\n",
              "      <td>No Urgent Place</td>\n",
              "      <td>Alone</td>\n",
              "      <td>Sunny</td>\n",
              "      <td>80</td>\n",
              "      <td>10AM</td>\n",
              "      <td>Restaurant(&lt;20)</td>\n",
              "      <td>2h</td>\n",
              "      <td>Male</td>\n",
              "      <td>21-30</td>\n",
              "      <td>...</td>\n",
              "      <td>$75000 - $87499</td>\n",
              "      <td>never</td>\n",
              "      <td>never</td>\n",
              "      <td>1~3</td>\n",
              "      <td>4~8</td>\n",
              "      <td>1~3</td>\n",
              "      <td>0</td>\n",
              "      <td>0</td>\n",
              "      <td>0</td>\n",
              "      <td>1</td>\n",
              "    </tr>\n",
              "  </tbody>\n",
              "</table>\n",
              "<p>713 rows × 24 columns</p>\n",
              "</div>"
            ],
            "text/plain": [
              "          id      destination  passanger weather  temperature  time  \\\n",
              "23        45  No Urgent Place  Friend(s)   Sunny           80  10AM   \n",
              "25        47  No Urgent Place  Friend(s)   Sunny           80  10AM   \n",
              "34        56  No Urgent Place      Alone   Sunny           55  10AM   \n",
              "45        67  No Urgent Place  Friend(s)   Sunny           80  10AM   \n",
              "46        68  No Urgent Place  Friend(s)   Sunny           80  10AM   \n",
              "...      ...              ...        ...     ...          ...   ...   \n",
              "11938  12615  No Urgent Place  Friend(s)   Sunny           30  10AM   \n",
              "11968  12645  No Urgent Place  Friend(s)   Sunny           30  10AM   \n",
              "11971  12648  No Urgent Place      Alone   Sunny           80  10AM   \n",
              "11988  12665  No Urgent Place  Friend(s)   Sunny           30  10AM   \n",
              "11991  12668  No Urgent Place      Alone   Sunny           80  10AM   \n",
              "\n",
              "                      coupon expiration  gender    age  ...           income  \\\n",
              "23              Coffee House         2h    Male  41-50  ...  $12500 - $24999   \n",
              "25     Carry out & Take away         2h    Male  41-50  ...  $12500 - $24999   \n",
              "34              Coffee House         2h    Male  41-50  ...  $12500 - $24999   \n",
              "45              Coffee House         2h    Male  41-50  ...  $75000 - $87499   \n",
              "46     Carry out & Take away         2h    Male  41-50  ...  $75000 - $87499   \n",
              "...                      ...        ...     ...    ...  ...              ...   \n",
              "11938  Carry out & Take away         2h  Female  21-30  ...  $37500 - $49999   \n",
              "11968  Carry out & Take away         2h    Male  31-40  ...  $100000 or More   \n",
              "11971        Restaurant(<20)         2h    Male  31-40  ...  $100000 or More   \n",
              "11988  Carry out & Take away         2h    Male  21-30  ...  $75000 - $87499   \n",
              "11991        Restaurant(<20)         2h    Male  21-30  ...  $75000 - $87499   \n",
              "\n",
              "         Bar CoffeeHouse CarryAway RestaurantLessThan20 Restaurant20To50  \\\n",
              "23     never         4~8       1~3                  1~3            never   \n",
              "25     never         4~8       1~3                  1~3            never   \n",
              "34     never         4~8       1~3                  1~3            never   \n",
              "45     less1         1~3       1~3                  1~3            less1   \n",
              "46     less1         1~3       1~3                  1~3            less1   \n",
              "...      ...         ...       ...                  ...              ...   \n",
              "11938  never         4~8       1~3                  1~3            less1   \n",
              "11968  less1       never       4~8                  gt8            less1   \n",
              "11971  less1       never       4~8                  gt8            less1   \n",
              "11988  never       never       1~3                  4~8              1~3   \n",
              "11991  never       never       1~3                  4~8              1~3   \n",
              "\n",
              "      toCoupon_GEQ15min toCoupon_GEQ25min direction_same  Y  \n",
              "23                    0                 0              0  1  \n",
              "25                    1                 0              0  1  \n",
              "34                    0                 0              0  1  \n",
              "45                    0                 0              0  1  \n",
              "46                    1                 0              0  1  \n",
              "...                 ...               ...            ... ..  \n",
              "11938                 0                 0              0  1  \n",
              "11968                 0                 0              0  1  \n",
              "11971                 0                 0              0  1  \n",
              "11988                 0                 0              0  1  \n",
              "11991                 0                 0              0  1  \n",
              "\n",
              "[713 rows x 24 columns]"
            ]
          },
          "execution_count": 70,
          "metadata": {},
          "output_type": "execute_result"
        }
      ],
      "source": [
        "cb = Y1[(Y1['expiration']=='2h') & (Y1['time']=='10AM')]\n",
        "cb"
      ]
    },
    {
      "cell_type": "code",
      "execution_count": null,
      "id": "46416048",
      "metadata": {
        "id": "46416048",
        "outputId": "362d6355-2893-41bc-a622-159f5b28e955"
      },
      "outputs": [
        {
          "name": "stdout",
          "output_type": "stream",
          "text": [
            "tabel of Y rate in exp 2h:\n",
            " expiration  time\n",
            "1d          10AM     595\n",
            "            10PM     647\n",
            "            2PM      885\n",
            "            6PM     1024\n",
            "            7AM     1048\n",
            "2h          10AM     713\n",
            "            10PM     330\n",
            "            2PM      379\n",
            "            6PM      763\n",
            "            7AM      441\n",
            "Name: Y, dtype: int64\n",
            "AxesSubplot(0.125,0.125;0.775x0.755)\n"
          ]
        },
        {
          "data": {
            "image/png": "[encoded data removed]",
            "text/plain": [
              "<Figure size 576x432 with 1 Axes>"
            ]
          },
          "metadata": {
            "needs_background": "light"
          },
          "output_type": "display_data"
        }
      ],
      "source": [
        "exp2h = Y1.groupby(['time'])['Y'].count()\n",
        "print('tabel of Y rate in exp 2h:\\n',exp2h)\n",
        "print(exp2h.plot(kind='bar',title='Rekomendasi Waktu untuk Masa Kadaluarsa 2 Jam',ylabel='sum of coupon',xlabel='Waktu Rekomendasi',figsize=(8,6)))"
      ]
    },
    {
      "cell_type": "code",
      "execution_count": null,
      "id": "a6df2b8b",
      "metadata": {
        "id": "a6df2b8b",
        "outputId": "d38e7c42-a8f3-43a6-cb98-bc4e106165c2"
      },
      "outputs": [
        {
          "name": "stdout",
          "output_type": "stream",
          "text": [
            "tabel of coupon:\n",
            " coupon\n",
            "Bar                        9\n",
            "Carry out & Take away    230\n",
            "Coffee House             334\n",
            "Restaurant(20-50)         21\n",
            "Restaurant(<20)          119\n",
            "Name: Y, dtype: int64\n",
            "AxesSubplot(0.125,0.125;0.775x0.755)\n"
          ]
        },
        {
          "data": {
            "image/png": "[encoded data removed]",
            "text/plain": [
              "<Figure size 576x432 with 1 Axes>"
            ]
          },
          "metadata": {
            "needs_background": "light"
          },
          "output_type": "display_data"
        }
      ],
      "source": [
        "coupon2h = cb.groupby(['coupon'])['Y'].count()\n",
        "print('tabel of coupon:\\n',coupon2h)\n",
        "print(coupon2h.plot(kind='barh',title='Distribusi Pemakaian Jenis Kupon \\nDengan Expiration 2H Pada Pukul 10AM',ylabel='sum of coupon',xlabel='Jenis Kupon',figsize=(8,6)))"
      ]
    },
    {
      "cell_type": "code",
      "execution_count": null,
      "id": "999ff0ac",
      "metadata": {
        "scrolled": false,
        "id": "999ff0ac",
        "outputId": "c7a2dab4-e4f0-4dc2-a086-9b846502f237"
      },
      "outputs": [
        {
          "data": {
            "image/png": "[encoded data removed]",
            "text/plain": [
              "<Figure size 576x432 with 1 Axes>"
            ]
          },
          "metadata": {
            "needs_background": "light"
          },
          "output_type": "display_data"
        }
      ],
      "source": [
        "ax1 = coupon2h.plot(kind='barh',xlabel='Jenis Kupon',use_index=True,figsize=(8,6), colormap='summer', fontsize=10)\n",
        "ax.set_alpha(0.8)\n",
        "ax1.set_title('Distribusi Pemakaian Jenis Kupon \\nDengan Expiration 2H Pada Pukul 10AM')\n",
        "ax1.set_ylabel('Jumlah Pemakaian Kupon')\n",
        "plt.show()"
      ]
    },
    {
      "cell_type": "code",
      "execution_count": null,
      "id": "2ea77393",
      "metadata": {
        "scrolled": false,
        "id": "2ea77393",
        "outputId": "1f75c02f-5aab-41ee-ab48-904574b6dd5d"
      },
      "outputs": [
        {
          "name": "stdout",
          "output_type": "stream",
          "text": [
            "Value count column id:\n",
            "45       1\n",
            "6237     1\n",
            "5676     1\n",
            "5698     1\n",
            "5720     1\n",
            "        ..\n",
            "2272     1\n",
            "2274     1\n",
            "2294     1\n",
            "2300     1\n",
            "12668    1\n",
            "Name: id, Length: 713, dtype: int64\n",
            "\n",
            "Value count column destination:\n",
            "No Urgent Place    713\n",
            "Name: destination, dtype: int64\n",
            "\n",
            "Value count column passanger:\n",
            "Friend(s)    381\n",
            "Alone        148\n",
            "Partner      101\n",
            "Kid(s)        83\n",
            "Name: passanger, dtype: int64\n",
            "\n",
            "Value count column weather:\n",
            "Sunny    692\n",
            "Rainy     21\n",
            "Name: weather, dtype: int64\n",
            "\n",
            "Value count column temperature:\n",
            "80    566\n",
            "55     90\n",
            "30     57\n",
            "Name: temperature, dtype: int64\n",
            "\n",
            "Value count column time:\n",
            "10AM    713\n",
            "Name: time, dtype: int64\n",
            "\n",
            "Value count column coupon:\n",
            "Coffee House             334\n",
            "Carry out & Take away    230\n",
            "Restaurant(<20)          119\n",
            "Restaurant(20-50)         21\n",
            "Bar                        9\n",
            "Name: coupon, dtype: int64\n",
            "\n",
            "Value count column expiration:\n",
            "2h    713\n",
            "Name: expiration, dtype: int64\n",
            "\n",
            "Value count column gender:\n",
            "Female    369\n",
            "Male      344\n",
            "Name: gender, dtype: int64\n",
            "\n",
            "Value count column age:\n",
            "21-30    296\n",
            "31-40    172\n",
            "41-50    124\n",
            ">50       91\n",
            "<21       30\n",
            "Name: age, dtype: int64\n",
            "\n",
            "Value count column maritalStatus:\n",
            "Married partner      298\n",
            "Single               262\n",
            "Unmarried partner    118\n",
            "Divorced              30\n",
            "Widowed                5\n",
            "Name: maritalStatus, dtype: int64\n",
            "\n",
            "Value count column has_children:\n",
            "0    417\n",
            "1    296\n",
            "Name: has_children, dtype: int64\n",
            "\n",
            "Value count column education:\n",
            "Some college - no degree                  285\n",
            "Bachelors degree                          233\n",
            "Graduate degree (Masters or Doctorate)     84\n",
            "Associates degree                          56\n",
            "High School Graduate                       52\n",
            "Some High School                            3\n",
            "Name: education, dtype: int64\n",
            "\n",
            "Value count column occupation:\n",
            "Student                                      101\n",
            "Unemployed                                    98\n",
            "Computer & Mathematical                       71\n",
            "Sales & Related                               60\n",
            "Management                                    58\n",
            "Education&Training&Library                    44\n",
            "Arts Design Entertainment Sports & Media      36\n",
            "Office & Administrative Support               32\n",
            "Business & Financial                          32\n",
            "Retired                                       22\n",
            "Food Preparation & Serving Related            18\n",
            "Healthcare Practitioners & Technical          17\n",
            "Protective Service                            15\n",
            "Transportation & Material Moving              15\n",
            "Healthcare Support                            15\n",
            "Architecture & Engineering                    14\n",
            "Life Physical Social Science                  13\n",
            "Legal                                         11\n",
            "Construction & Extraction                     11\n",
            "Personal Care & Service                       10\n",
            "Community & Social Services                    9\n",
            "Installation Maintenance & Repair              5\n",
            "Production Occupations                         4\n",
            "Building & Grounds Cleaning & Maintenance      1\n",
            "Farming Fishing & Forestry                     1\n",
            "Name: occupation, dtype: int64\n",
            "\n",
            "Value count column income:\n",
            "$25000 - $37499     126\n",
            "$12500 - $24999     108\n",
            "$50000 - $62499     108\n",
            "$100000 or More      99\n",
            "$37500 - $49999      85\n",
            "Less than $12500     54\n",
            "$62500 - $74999      49\n",
            "$75000 - $87499      44\n",
            "$87500 - $99999      40\n",
            "Name: income, dtype: int64\n",
            "\n",
            "Value count column Bar:\n",
            "never    285\n",
            "less1    196\n",
            "1~3      153\n",
            "4~8       62\n",
            "gt8       17\n",
            "Name: Bar, dtype: int64\n",
            "\n",
            "Value count column CoffeeHouse:\n",
            "1~3      233\n",
            "less1    212\n",
            "never    107\n",
            "4~8      100\n",
            "gt8       61\n",
            "Name: CoffeeHouse, dtype: int64\n",
            "\n",
            "Value count column CarryAway:\n",
            "1~3      292\n",
            "4~8      241\n",
            "gt8       92\n",
            "less1     80\n",
            "never      8\n",
            "Name: CarryAway, dtype: int64\n",
            "\n",
            "Value count column RestaurantLessThan20:\n",
            "1~3      307\n",
            "4~8      206\n",
            "less1    109\n",
            "gt8       78\n",
            "never     13\n",
            "Name: RestaurantLessThan20, dtype: int64\n",
            "\n",
            "Value count column Restaurant20To50:\n",
            "less1    346\n",
            "1~3      207\n",
            "never    106\n",
            "4~8       42\n",
            "gt8       12\n",
            "Name: Restaurant20To50, dtype: int64\n",
            "\n",
            "Value count column toCoupon_GEQ15min:\n",
            "0    363\n",
            "1    350\n",
            "Name: toCoupon_GEQ15min, dtype: int64\n",
            "\n",
            "Value count column toCoupon_GEQ25min:\n",
            "0    713\n",
            "Name: toCoupon_GEQ25min, dtype: int64\n",
            "\n",
            "Value count column direction_same:\n",
            "0    713\n",
            "Name: direction_same, dtype: int64\n",
            "\n",
            "Value count column Y:\n",
            "1    713\n",
            "Name: Y, dtype: int64\n",
            "\n"
          ]
        }
      ],
      "source": [
        "for kolom in cb:\n",
        "    print(f'''Value count column {kolom}:''')\n",
        "    print(cb[kolom].value_counts())\n",
        "    print()"
      ]
    }
  ],
  "metadata": {
    "kernelspec": {
      "display_name": "Python 3",
      "language": "python",
      "name": "python3"
    },
    "language_info": {
      "codemirror_mode": {
        "name": "ipython",
        "version": 3
      },
      "file_extension": ".py",
      "mimetype": "text/x-python",
      "name": "python",
      "nbconvert_exporter": "python",
      "pygments_lexer": "ipython3",
      "version": "3.8.8"
    },
    "colab": {
      "name": "Stage 3.ipynb",
      "provenance": [],
      "collapsed_sections": []
    }
  },
  "nbformat": 4,
  "nbformat_minor": 5
}